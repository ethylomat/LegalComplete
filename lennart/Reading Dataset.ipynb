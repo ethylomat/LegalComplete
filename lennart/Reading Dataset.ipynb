{
 "cells": [
  {
   "cell_type": "markdown",
   "metadata": {},
   "source": [
    "# Reading Decisions\n",
    "\n",
    "This is a notebook experimenting with reading decision datasets.  \n",
    "The the following dataset can be found at:\n",
    "[https://zenodo.org/record/3911068#.X60JqS-ZPUo](https://zenodo.org/record/3911068#.X60JqS-ZPUo)"
   ]
  },
  {
   "cell_type": "code",
   "execution_count": 1,
   "metadata": {},
   "outputs": [],
   "source": [
    "import re\n",
    "import collections\n",
    "import pandas as pd\n",
    "import numpy as np\n",
    "import matplotlib.pyplot as plt\n",
    "from tqdm import tqdm"
   ]
  },
  {
   "cell_type": "code",
   "execution_count": 2,
   "metadata": {},
   "outputs": [],
   "source": [
    "plt.rcParams.update({'font.size': 16})"
   ]
  },
  {
   "cell_type": "code",
   "execution_count": 3,
   "metadata": {},
   "outputs": [
    {
     "data": {
      "text/html": [
       "<div>\n",
       "<style scoped>\n",
       "    .dataframe tbody tr th:only-of-type {\n",
       "        vertical-align: middle;\n",
       "    }\n",
       "\n",
       "    .dataframe tbody tr th {\n",
       "        vertical-align: top;\n",
       "    }\n",
       "\n",
       "    .dataframe thead th {\n",
       "        text-align: right;\n",
       "    }\n",
       "</style>\n",
       "<table border=\"1\" class=\"dataframe\">\n",
       "  <thead>\n",
       "    <tr style=\"text-align: right;\">\n",
       "      <th></th>\n",
       "      <th>Unnamed: 0</th>\n",
       "      <th>doc_id</th>\n",
       "      <th>text</th>\n",
       "      <th>Gericht</th>\n",
       "      <th>Datum</th>\n",
       "      <th>Entscheidungsart</th>\n",
       "      <th>Senat</th>\n",
       "      <th>Verfahrensart</th>\n",
       "      <th>Ordinalzahl</th>\n",
       "      <th>Eingangsjahr</th>\n",
       "      <th>Suffix</th>\n",
       "    </tr>\n",
       "  </thead>\n",
       "  <tbody>\n",
       "    <tr>\n",
       "      <th>0</th>\n",
       "      <td>1</td>\n",
       "      <td>BVerwG_1997-02-26_U_6_C_3_96_NA.txt</td>\n",
       "      <td>BUNDESVERWALTUNGSGERICHT\\nIM NAMEN DES VOLKES\\...</td>\n",
       "      <td>BVerwG</td>\n",
       "      <td>1997-02-26</td>\n",
       "      <td>U</td>\n",
       "      <td>6</td>\n",
       "      <td>C</td>\n",
       "      <td>3</td>\n",
       "      <td>96</td>\n",
       "      <td>NaN</td>\n",
       "    </tr>\n",
       "    <tr>\n",
       "      <th>1</th>\n",
       "      <td>2</td>\n",
       "      <td>BVerwG_2000-12-14_B_21_WB_107_00_NA.txt</td>\n",
       "      <td>BUNDESVERWALTUNGSGERICHT\\nBeschluss\\nBVerwG 1 ...</td>\n",
       "      <td>BVerwG</td>\n",
       "      <td>2000-12-14</td>\n",
       "      <td>B</td>\n",
       "      <td>21</td>\n",
       "      <td>WB</td>\n",
       "      <td>107</td>\n",
       "      <td>0</td>\n",
       "      <td>NaN</td>\n",
       "    </tr>\n",
       "    <tr>\n",
       "      <th>2</th>\n",
       "      <td>3</td>\n",
       "      <td>BVerwG_2002-01-10_B_9_A_9_02_NA.txt</td>\n",
       "      <td>BUNDESVERWALTUNGSGERICHT\\nBESCHLUSS\\nBVerwG 9 ...</td>\n",
       "      <td>BVerwG</td>\n",
       "      <td>2002-01-10</td>\n",
       "      <td>B</td>\n",
       "      <td>9</td>\n",
       "      <td>A</td>\n",
       "      <td>9</td>\n",
       "      <td>2</td>\n",
       "      <td>NaN</td>\n",
       "    </tr>\n",
       "    <tr>\n",
       "      <th>3</th>\n",
       "      <td>4</td>\n",
       "      <td>BVerwG_2002-01-14_B_4_BN_1_02_NA.txt</td>\n",
       "      <td>BUNDESVERWALTUNGSGERICHT\\nBESCHLUSS\\nBVerwG 4 ...</td>\n",
       "      <td>BVerwG</td>\n",
       "      <td>2002-01-14</td>\n",
       "      <td>B</td>\n",
       "      <td>4</td>\n",
       "      <td>BN</td>\n",
       "      <td>1</td>\n",
       "      <td>2</td>\n",
       "      <td>NaN</td>\n",
       "    </tr>\n",
       "    <tr>\n",
       "      <th>4</th>\n",
       "      <td>5</td>\n",
       "      <td>BVerwG_2002-01-17_B_1_B_12_02_NA.txt</td>\n",
       "      <td>BUNDESVERWALTUNGSGERICHT\\nBESCHLUSS\\nBVerwG 1 ...</td>\n",
       "      <td>BVerwG</td>\n",
       "      <td>2002-01-17</td>\n",
       "      <td>B</td>\n",
       "      <td>1</td>\n",
       "      <td>B</td>\n",
       "      <td>12</td>\n",
       "      <td>2</td>\n",
       "      <td>NaN</td>\n",
       "    </tr>\n",
       "    <tr>\n",
       "      <th>...</th>\n",
       "      <td>...</td>\n",
       "      <td>...</td>\n",
       "      <td>...</td>\n",
       "      <td>...</td>\n",
       "      <td>...</td>\n",
       "      <td>...</td>\n",
       "      <td>...</td>\n",
       "      <td>...</td>\n",
       "      <td>...</td>\n",
       "      <td>...</td>\n",
       "      <td>...</td>\n",
       "    </tr>\n",
       "    <tr>\n",
       "      <th>24219</th>\n",
       "      <td>24220</td>\n",
       "      <td>BVerwG_2020-05-07_B_2_B_35_19_NA.txt</td>\n",
       "      <td>BESCHLUSS\\nBVerwG 2 B 35.19\\nOVG 4 B 33.14\\n\\n...</td>\n",
       "      <td>BVerwG</td>\n",
       "      <td>2020-05-07</td>\n",
       "      <td>B</td>\n",
       "      <td>2</td>\n",
       "      <td>B</td>\n",
       "      <td>35</td>\n",
       "      <td>19</td>\n",
       "      <td>NaN</td>\n",
       "    </tr>\n",
       "    <tr>\n",
       "      <th>24220</th>\n",
       "      <td>24221</td>\n",
       "      <td>BVerwG_2020-05-12_B_4_BN_3_20_NA.txt</td>\n",
       "      <td>BESCHLUSS\\nBVerwG 4 BN 3.20\\nOVG 2 C 285/18\\n\\...</td>\n",
       "      <td>BVerwG</td>\n",
       "      <td>2020-05-12</td>\n",
       "      <td>B</td>\n",
       "      <td>4</td>\n",
       "      <td>BN</td>\n",
       "      <td>3</td>\n",
       "      <td>20</td>\n",
       "      <td>NaN</td>\n",
       "    </tr>\n",
       "    <tr>\n",
       "      <th>24221</th>\n",
       "      <td>24222</td>\n",
       "      <td>BVerwG_2020-05-13_B_6_PKH_6_19_NA.txt</td>\n",
       "      <td>BESCHLUSS\\nBVerwG 6 PKH 6.19\\n\\nIn der Verwalt...</td>\n",
       "      <td>BVerwG</td>\n",
       "      <td>2020-05-13</td>\n",
       "      <td>B</td>\n",
       "      <td>6</td>\n",
       "      <td>PKH</td>\n",
       "      <td>6</td>\n",
       "      <td>19</td>\n",
       "      <td>NaN</td>\n",
       "    </tr>\n",
       "    <tr>\n",
       "      <th>24222</th>\n",
       "      <td>24223</td>\n",
       "      <td>BVerwG_2020-05-18_B_1_B_21_20_NA.txt</td>\n",
       "      <td>BESCHLUSS\\nBVerwG 1 B 21.20, 1 PKH 12.20\\nVGH ...</td>\n",
       "      <td>BVerwG</td>\n",
       "      <td>2020-05-18</td>\n",
       "      <td>B</td>\n",
       "      <td>1</td>\n",
       "      <td>B</td>\n",
       "      <td>21</td>\n",
       "      <td>20</td>\n",
       "      <td>NaN</td>\n",
       "    </tr>\n",
       "    <tr>\n",
       "      <th>24223</th>\n",
       "      <td>24224</td>\n",
       "      <td>BVerwG_2020-05-18_B_1_B_23_20_NA.txt</td>\n",
       "      <td>BESCHLUSS\\nBVerwG 1 B 23.20, 1 PKH 14.20\\nVGH ...</td>\n",
       "      <td>BVerwG</td>\n",
       "      <td>2020-05-18</td>\n",
       "      <td>B</td>\n",
       "      <td>1</td>\n",
       "      <td>B</td>\n",
       "      <td>23</td>\n",
       "      <td>20</td>\n",
       "      <td>NaN</td>\n",
       "    </tr>\n",
       "  </tbody>\n",
       "</table>\n",
       "<p>24224 rows × 11 columns</p>\n",
       "</div>"
      ],
      "text/plain": [
       "       Unnamed: 0                                   doc_id  \\\n",
       "0               1      BVerwG_1997-02-26_U_6_C_3_96_NA.txt   \n",
       "1               2  BVerwG_2000-12-14_B_21_WB_107_00_NA.txt   \n",
       "2               3      BVerwG_2002-01-10_B_9_A_9_02_NA.txt   \n",
       "3               4     BVerwG_2002-01-14_B_4_BN_1_02_NA.txt   \n",
       "4               5     BVerwG_2002-01-17_B_1_B_12_02_NA.txt   \n",
       "...           ...                                      ...   \n",
       "24219       24220     BVerwG_2020-05-07_B_2_B_35_19_NA.txt   \n",
       "24220       24221     BVerwG_2020-05-12_B_4_BN_3_20_NA.txt   \n",
       "24221       24222    BVerwG_2020-05-13_B_6_PKH_6_19_NA.txt   \n",
       "24222       24223     BVerwG_2020-05-18_B_1_B_21_20_NA.txt   \n",
       "24223       24224     BVerwG_2020-05-18_B_1_B_23_20_NA.txt   \n",
       "\n",
       "                                                    text Gericht       Datum  \\\n",
       "0      BUNDESVERWALTUNGSGERICHT\\nIM NAMEN DES VOLKES\\...  BVerwG  1997-02-26   \n",
       "1      BUNDESVERWALTUNGSGERICHT\\nBeschluss\\nBVerwG 1 ...  BVerwG  2000-12-14   \n",
       "2      BUNDESVERWALTUNGSGERICHT\\nBESCHLUSS\\nBVerwG 9 ...  BVerwG  2002-01-10   \n",
       "3      BUNDESVERWALTUNGSGERICHT\\nBESCHLUSS\\nBVerwG 4 ...  BVerwG  2002-01-14   \n",
       "4      BUNDESVERWALTUNGSGERICHT\\nBESCHLUSS\\nBVerwG 1 ...  BVerwG  2002-01-17   \n",
       "...                                                  ...     ...         ...   \n",
       "24219  BESCHLUSS\\nBVerwG 2 B 35.19\\nOVG 4 B 33.14\\n\\n...  BVerwG  2020-05-07   \n",
       "24220  BESCHLUSS\\nBVerwG 4 BN 3.20\\nOVG 2 C 285/18\\n\\...  BVerwG  2020-05-12   \n",
       "24221  BESCHLUSS\\nBVerwG 6 PKH 6.19\\n\\nIn der Verwalt...  BVerwG  2020-05-13   \n",
       "24222  BESCHLUSS\\nBVerwG 1 B 21.20, 1 PKH 12.20\\nVGH ...  BVerwG  2020-05-18   \n",
       "24223  BESCHLUSS\\nBVerwG 1 B 23.20, 1 PKH 14.20\\nVGH ...  BVerwG  2020-05-18   \n",
       "\n",
       "      Entscheidungsart  Senat Verfahrensart  Ordinalzahl  Eingangsjahr Suffix  \n",
       "0                    U      6             C            3            96    NaN  \n",
       "1                    B     21            WB          107             0    NaN  \n",
       "2                    B      9             A            9             2    NaN  \n",
       "3                    B      4            BN            1             2    NaN  \n",
       "4                    B      1             B           12             2    NaN  \n",
       "...                ...    ...           ...          ...           ...    ...  \n",
       "24219                B      2             B           35            19    NaN  \n",
       "24220                B      4            BN            3            20    NaN  \n",
       "24221                B      6           PKH            6            19    NaN  \n",
       "24222                B      1             B           21            20    NaN  \n",
       "24223                B      1             B           23            20    NaN  \n",
       "\n",
       "[24224 rows x 11 columns]"
      ]
     },
     "execution_count": 3,
     "metadata": {},
     "output_type": "execute_result"
    }
   ],
   "source": [
    "df = pd.read_csv('2020_06_23_CE-BVerwG_DE_Datensatz.csv')\n",
    "df"
   ]
  },
  {
   "cell_type": "markdown",
   "metadata": {},
   "source": [
    "## Accessing decision texts"
   ]
  },
  {
   "cell_type": "code",
   "execution_count": 4,
   "metadata": {},
   "outputs": [
    {
     "data": {
      "text/plain": [
       "'BUNDESVERWALTUNGSGERICHT\\nIM NAMEN DES VOLKES\\nURTEIL\\nBVerwG 6 C 3.96\\nOVG 10 L 5059/93\\n\\nVerkündet\\nam 26. Februar 1997\\nCremer\\nJustizhauptsekretär\\nals Urkundsbeamter der Geschäftsstelle\\n\\nIn der Verwaltungsstreitsache\\n\\n\\x0c- 2 -\\n\\nhat der 6. Senat des Bundesverwaltungsgerichts\\nauf die mündliche Verhandlung vom 26. Februar 1997\\ndurch die Richter\\nDr. S e i b e r t ,\\nA l b e r s ,\\nDr. V o g e l g e s a n g ,\\ndie Richterin\\nE c k e r t z - H ö f e r\\nund den Richter\\nDr.\\nS c h m u t z l e r\\nfür Recht erkannt:\\nDie Revision der Beigeladenen gegen das Urteil\\ndes Niedersächsischen Oberverwaltungsgerichts\\nvom 19. Dezember 1995 wird mit der Maßgabe zurückgewiesen, daß der Beklagte die erstinstanzlich ausgesprochene Verpflichtung auch in der\\nWeise erfüllen kann, daß er der Klägerin neben\\nden dort genannten Entscheidungen auch alle anderen als veröffentlichungswürdig ausgewählten\\noder als solche anerkannten und mit einer neutralisierten Fassung versehenen Entscheidungen\\ndes Niedersächsischen Finanzgerichts un'"
      ]
     },
     "execution_count": 4,
     "metadata": {},
     "output_type": "execute_result"
    }
   ],
   "source": [
    "example_decision_text = df['text'][0]\n",
    "example_decision_text[:1000]"
   ]
  },
  {
   "cell_type": "markdown",
   "metadata": {},
   "source": [
    "## Counting occurrences\n",
    "In this example the occurrences of “VwGO” in all decisions is counted:"
   ]
  },
  {
   "cell_type": "code",
   "execution_count": 5,
   "metadata": {},
   "outputs": [
    {
     "name": "stdout",
     "output_type": "stream",
     "text": [
      "Count (“VwGO“):  136807\n"
     ]
    }
   ],
   "source": [
    "search = r'VwGO'\n",
    "\n",
    "count = 0\n",
    "for decision in df['text']:\n",
    "    count += len(re.findall(search, decision))\n",
    "print('Count (“%s“): ' % search, count)"
   ]
  },
  {
   "cell_type": "code",
   "execution_count": 6,
   "metadata": {},
   "outputs": [
    {
     "data": {
      "text/plain": [
       "['§ 65 Abs. 2 VwGO', '§ 55 VwGO', '§ 154 VwGO']"
      ]
     },
     "execution_count": 6,
     "metadata": {},
     "output_type": "execute_result"
    }
   ],
   "source": [
    "re.findall(r'§.*VwGO', example_decision_text)"
   ]
  },
  {
   "cell_type": "markdown",
   "metadata": {},
   "source": [
    "## Find references\n",
    "\n",
    "In the following section some functions are defined to find references in text and convert them to a uniform style:"
   ]
  },
  {
   "cell_type": "code",
   "execution_count": 7,
   "metadata": {},
   "outputs": [],
   "source": [
    "hierarchy = {\n",
    "    'section': '§ %d ',\n",
    "    'paragraph': 'Abs. %d ',\n",
    "    'clause': 'S. %d',\n",
    "}\n",
    "\n",
    "def str_int(string: str) -> int:\n",
    "    if string == '':\n",
    "        return None\n",
    "    else:\n",
    "        return int(string)\n",
    "    \n",
    "def reference_to_str(reference_dict: dict, level: int = None, book: str = '') -> str:\n",
    "    result = ''\n",
    "    book = ' ' + book.strip()\n",
    "    n = 0\n",
    "    for key, expression in hierarchy.items():\n",
    "        value = reference_dict[key]\n",
    "        if value is not None and (level is None or n <= level):\n",
    "            result += expression %  value\n",
    "        n += 1\n",
    "    result = result.strip() + book\n",
    "    result = result.strip()\n",
    "    return result\n",
    "\n",
    "def find_references(decision_text: str, book: str) -> list:\n",
    "    references = re.findall(r'§ (\\d+)\\W*[Abs.]*\\W*(\\d+)*\\W*[S.]*\\W*(\\d+)*\\W*' + book, decision_text)\n",
    "    references = [{'book': book,'section': str_int(m[0]), 'paragraph': str_int(m[1]), 'clause': str_int(m[2])} for m in references]\n",
    "    return references"
   ]
  },
  {
   "cell_type": "code",
   "execution_count": 8,
   "metadata": {},
   "outputs": [
    {
     "data": {
      "text/plain": [
       "[{'book': 'VwGO', 'section': 65, 'paragraph': 2, 'clause': None},\n",
       " {'book': 'VwGO', 'section': 55, 'paragraph': None, 'clause': None},\n",
       " {'book': 'VwGO', 'section': 154, 'paragraph': 2, 'clause': None},\n",
       " {'book': 'VwGO', 'section': 154, 'paragraph': None, 'clause': None}]"
      ]
     },
     "execution_count": 8,
     "metadata": {},
     "output_type": "execute_result"
    }
   ],
   "source": [
    "references = find_references(example_decision_text, 'VwGO')\n",
    "references"
   ]
  },
  {
   "cell_type": "markdown",
   "metadata": {},
   "source": [
    "## Find most common occurrences\n",
    "The variable level is setting the hierarchy depth."
   ]
  },
  {
   "cell_type": "code",
   "execution_count": 9,
   "metadata": {},
   "outputs": [
    {
     "name": "stderr",
     "output_type": "stream",
     "text": [
      "100%|██████████| 24224/24224 [00:07<00:00, 3419.71it/s]\n"
     ]
    },
    {
     "data": {
      "text/plain": [
       "[('§ 154', 12336),\n",
       " ('§ 86', 5272),\n",
       " ('§ 108', 4710),\n",
       " ('§ 137', 4324),\n",
       " ('§ 162', 3048),\n",
       " ('§ 132', 3034),\n",
       " ('§ 144', 2044),\n",
       " ('§ 166', 1749),\n",
       " ('§ 133', 1552),\n",
       " ('§ 99', 1431),\n",
       " ('§ 173', 1373),\n",
       " ('§ 155', 1304),\n",
       " ('§ 152', 1291),\n",
       " ('§ 67', 829),\n",
       " ('§ 47', 794),\n",
       " ('§ 42', 791),\n",
       " ('§ 60', 696),\n",
       " ('§ 161', 690),\n",
       " ('§ 80', 683),\n",
       " ('§ 98', 654),\n",
       " ('§ 113', 564),\n",
       " ('§ 54', 556),\n",
       " ('§ 101', 550),\n",
       " ('§ 88', 533),\n",
       " ('§ 43', 499),\n",
       " ('§ 121', 429),\n",
       " ('§ 123', 420),\n",
       " ('§ 62', 361),\n",
       " ('§ 58', 345),\n",
       " ('§ 65', 328)]"
      ]
     },
     "execution_count": 9,
     "metadata": {},
     "output_type": "execute_result"
    }
   ],
   "source": [
    "level = 0\n",
    "counter = collections.Counter()\n",
    "\n",
    "for decision in tqdm(df['text']):\n",
    "    references = find_references(decision, 'VwGO')\n",
    "    for reference in references:\n",
    "        reference_str = reference_to_str(reference, level=level)\n",
    "        counter[reference_str] += 1\n",
    "        \n",
    "counter.most_common(30)"
   ]
  },
  {
   "cell_type": "code",
   "execution_count": 10,
   "metadata": {},
   "outputs": [
    {
     "data": {
      "text/plain": [
       "(array([29., 11., 12.,  4.,  7.,  3.,  1.,  2.,  5.,  1.]),\n",
       " array([ 10.,  29.,  48.,  67.,  86., 105., 124., 143., 162., 181., 200.]),\n",
       " <BarContainer object of 10 artists>)"
      ]
     },
     "execution_count": 10,
     "metadata": {},
     "output_type": "execute_result"
    },
    {
     "data": {
      "image/png": "[encoded data removed]",
      "text/plain": [
       "<Figure size 432x288 with 1 Axes>"
      ]
     },
     "metadata": {
      "needs_background": "light"
     },
     "output_type": "display_data"
    }
   ],
   "source": [
    "plt.title('Count of most common references')\n",
    "plt.xlabel('Count of occurrencces (# >= 10)')\n",
    "plt.ylabel('Count of references')\n",
    "plt.hist([count for reference, count in counter.items()], range=[10, 200])"
   ]
  },
  {
   "cell_type": "code",
   "execution_count": 11,
   "metadata": {},
   "outputs": [
    {
     "data": {
      "text/plain": [
       "Text(0.5, 1.0, 'Occurrences of references')"
      ]
     },
     "execution_count": 11,
     "metadata": {},
     "output_type": "execute_result"
    },
    {
     "data": {
      "image/png": "[encoded data removed]",
      "text/plain": [
       "<Figure size 720x1080 with 1 Axes>"
      ]
     },
     "metadata": {
      "needs_background": "light"
     },
     "output_type": "display_data"
    }
   ],
   "source": [
    "fig, ax = plt.subplots(figsize=(10,15))\n",
    "count_all_references = sum(counter.values())\n",
    "counts = [count for reference, count in counter.most_common(30)]\n",
    "references = [reference for reference, count in counter.most_common(30)]\n",
    "\n",
    "y_pos = np.arange(len(references))\n",
    "ax.barh(y_pos, counts, align='center')\n",
    "ax.set_yticks(y_pos)\n",
    "ax.set_yticklabels(references)\n",
    "secax = ax.secondary_xaxis('top', functions=(lambda x: x/count_all_references*100,lambda x: x))\n",
    "secax.set_xlabel('relative occurrences [%]')\n",
    "ax.invert_yaxis()\n",
    "ax.set_xlabel('absolute occurrences [#]')\n",
    "ax.set_ylabel('Reference in VwGO')\n",
    "ax.set_title('Occurrences of references')"
   ]
  }
 ],
 "metadata": {
  "kernelspec": {
   "display_name": "Python 3",
   "language": "python",
   "name": "python3"
  },
  "language_info": {
   "codemirror_mode": {
    "name": "ipython",
    "version": 3
   },
   "file_extension": ".py",
   "mimetype": "text/x-python",
   "name": "python",
   "nbconvert_exporter": "python",
   "pygments_lexer": "ipython3",
   "version": "3.8.5"
  }
 },
 "nbformat": 4,
 "nbformat_minor": 4
}
