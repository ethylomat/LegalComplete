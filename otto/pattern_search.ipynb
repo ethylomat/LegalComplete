{
 "cells": [
  {
   "cell_type": "code",
   "execution_count": 1,
   "metadata": {},
   "outputs": [],
   "source": [
    "import re\n",
    "import collections\n",
    "import pandas as pd\n",
    "import numpy as np \n",
    "import matplotlib.pyplot as plt\n",
    "from tqdm import tqdm\n",
    "import nltk\n",
    "\n",
    "from collections import Counter"
   ]
  },
  {
   "cell_type": "code",
   "execution_count": 2,
   "metadata": {},
   "outputs": [],
   "source": [
    "df = pd.read_csv('../datasets/raw/2020_06_23_CE-BVerwG_DE_Datensatz.csv')"
   ]
  },
  {
   "cell_type": "code",
   "execution_count": 3,
   "metadata": {},
   "outputs": [],
   "source": [
    "minidf = df.sample(frac = 0.05)\n",
    "minidf['text_normalized'] = minidf['text'].str.lower().str.replace(\"\\n\", \" \").replace('\\s+', ' ', regex=True)\n"
   ]
  },
  {
   "cell_type": "code",
   "execution_count": 4,
   "metadata": {},
   "outputs": [],
   "source": [
    "vocab = nltk.lm.Vocabulary(minidf['text_normalized'], unk_cutoff=10)\n",
    "data = []\n",
    "total_num_documents = 300\n",
    "for judgement in minidf['text_normalized']:\n",
    "    data.extend(judgement.split(\" \"))\n",
    "filtered_data = [word for word in data if len(word) > 1 or not word.isalpha()]\n"
   ]
  },
  {
   "cell_type": "code",
   "execution_count": 5,
   "metadata": {},
   "outputs": [],
   "source": [
    "min_len = 20\n",
    "max_len = 25\n"
   ]
  },
  {
   "cell_type": "code",
   "execution_count": 6,
   "metadata": {},
   "outputs": [],
   "source": [
    "longgrams = list(nltk.everygrams(filtered_data, min_len=min_len, max_len=max_len-1))"
   ]
  },
  {
   "cell_type": "code",
   "execution_count": 7,
   "metadata": {},
   "outputs": [],
   "source": [
    "most_common = Counter(longgrams)\n",
    "most_common = most_common.most_common(10000)"
   ]
  },
  {
   "cell_type": "code",
   "execution_count": 23,
   "metadata": {},
   "outputs": [],
   "source": [
    "phrases = []\n",
    "frequencies_per_ngramlength = {i:[] for i in range(min_len, max_len)}\n",
    "for phrase, frequency in most_common:\n",
    "    if frequency < 5: # stop evaluating if the first ngram has less than x occurences\n",
    "        break\n",
    "    frequencies_per_ngramlength[len(phrase)].append((frequency, phrase))\n",
    "\n",
    "frequencies = []\n",
    "lengths = []\n",
    "length_keys = list(frequencies_per_ngramlength.keys())\n",
    "for length in length_keys[::-1]:\n",
    "    counter = 0\n",
    "    for frequency, phrase_candidate in frequencies_per_ngramlength[length]:\n",
    "        phrase_candidate = \" \".join(phrase_candidate)\n",
    "        cut_phrase_candidate = \" \".join(phrase_candidate[4:-4])\n",
    "        if not any(cut_phrase_candidate in phrase for phrase in phrases):\n",
    "            lengths.append(length)\n",
    "            frequencies.append(frequency)\n",
    "            phrases.append(phrase_candidate)\n",
    "            counter += 1\n",
    "            if counter > 5: # we only check the top 5 phrases at the given n\n",
    "                break"
   ]
  },
  {
   "cell_type": "code",
   "execution_count": 24,
   "metadata": {},
   "outputs": [
    {
     "data": {
      "image/png": "[encoded data removed]",
      "text/plain": [
       "<Figure size 432x288 with 1 Axes>"
      ]
     },
     "metadata": {
      "needs_background": "light"
     },
     "output_type": "display_data"
    }
   ],
   "source": [
    "plt.title(\"most common ngrams\")\n",
    "plt.ylabel(\"frequency\")\n",
    "plt.xlabel(\"lenth of ngrams in words\")\n",
    "plt.scatter(lengths, frequencies)\n",
    "plt.show()"
   ]
  },
  {
   "cell_type": "code",
   "execution_count": 25,
   "metadata": {},
   "outputs": [
    {
     "name": "stdout",
     "output_type": "stream",
     "text": [
      "freq:  55 length 24\n",
      "bedarf es nicht. die revision ist innerhalb eines monats nach zustellung dieses beschlusses zu begründen. die begründung ist bei dem bundesverwaltungsgericht, simsonplatz 1, 04107\n",
      "\n",
      "freq:  55 length 24\n",
      "es nicht. die revision ist innerhalb eines monats nach zustellung dieses beschlusses zu begründen. die begründung ist bei dem bundesverwaltungsgericht, simsonplatz 1, 04107 leipzig,\n",
      "\n",
      "freq:  54 length 24\n",
      "der einlegung einer revision durch den beschwerdeführer bedarf es nicht. die revision ist innerhalb eines monats nach zustellung dieses beschlusses zu begründen. die begründung\n",
      "\n",
      "freq:  54 length 24\n",
      "einlegung einer revision durch den beschwerdeführer bedarf es nicht. die revision ist innerhalb eines monats nach zustellung dieses beschlusses zu begründen. die begründung ist\n",
      "\n",
      "freq:  54 length 24\n",
      "einer revision durch den beschwerdeführer bedarf es nicht. die revision ist innerhalb eines monats nach zustellung dieses beschlusses zu begründen. die begründung ist bei\n",
      "\n",
      "freq:  54 length 24\n",
      "revision durch den beschwerdeführer bedarf es nicht. die revision ist innerhalb eines monats nach zustellung dieses beschlusses zu begründen. die begründung ist bei dem\n",
      "\n",
      "freq:  55 length 23\n",
      "bedarf es nicht. die revision ist innerhalb eines monats nach zustellung dieses beschlusses zu begründen. die begründung ist bei dem bundesverwaltungsgericht, simsonplatz 1,\n",
      "\n",
      "freq:  55 length 23\n",
      "es nicht. die revision ist innerhalb eines monats nach zustellung dieses beschlusses zu begründen. die begründung ist bei dem bundesverwaltungsgericht, simsonplatz 1, 04107\n",
      "\n",
      "freq:  55 length 23\n",
      "nicht. die revision ist innerhalb eines monats nach zustellung dieses beschlusses zu begründen. die begründung ist bei dem bundesverwaltungsgericht, simsonplatz 1, 04107 leipzig,\n",
      "\n",
      "freq:  54 length 23\n",
      "der einlegung einer revision durch den beschwerdeführer bedarf es nicht. die revision ist innerhalb eines monats nach zustellung dieses beschlusses zu begründen. die\n",
      "\n",
      "freq:  54 length 23\n",
      "einlegung einer revision durch den beschwerdeführer bedarf es nicht. die revision ist innerhalb eines monats nach zustellung dieses beschlusses zu begründen. die begründung\n",
      "\n",
      "freq:  54 length 23\n",
      "einer revision durch den beschwerdeführer bedarf es nicht. die revision ist innerhalb eines monats nach zustellung dieses beschlusses zu begründen. die begründung ist\n",
      "\n",
      "freq:  62 length 22\n",
      "die revision ist innerhalb eines monats nach zustellung dieses beschlusses zu begründen. die begründung ist bei dem bundesverwaltungsgericht, simsonplatz 1, 04107 leipzig,\n",
      "\n",
      "freq:  57 length 22\n",
      "bedarf es nicht. die revision ist innerhalb eines monats nach zustellung dieses beschlusses zu begründen. die begründung ist bei dem bundesverwaltungsgericht, simsonplatz\n",
      "\n",
      "freq:  55 length 22\n",
      "es nicht. die revision ist innerhalb eines monats nach zustellung dieses beschlusses zu begründen. die begründung ist bei dem bundesverwaltungsgericht, simsonplatz 1,\n",
      "\n",
      "freq:  55 length 22\n",
      "nicht. die revision ist innerhalb eines monats nach zustellung dieses beschlusses zu begründen. die begründung ist bei dem bundesverwaltungsgericht, simsonplatz 1, 04107\n",
      "\n",
      "freq:  54 length 22\n",
      "der einlegung einer revision durch den beschwerdeführer bedarf es nicht. die revision ist innerhalb eines monats nach zustellung dieses beschlusses zu begründen.\n",
      "\n",
      "freq:  54 length 22\n",
      "einlegung einer revision durch den beschwerdeführer bedarf es nicht. die revision ist innerhalb eines monats nach zustellung dieses beschlusses zu begründen. die\n",
      "\n",
      "freq:  62 length 21\n",
      "die revision ist innerhalb eines monats nach zustellung dieses beschlusses zu begründen. die begründung ist bei dem bundesverwaltungsgericht, simsonplatz 1, 04107\n",
      "\n",
      "freq:  62 length 21\n",
      "revision ist innerhalb eines monats nach zustellung dieses beschlusses zu begründen. die begründung ist bei dem bundesverwaltungsgericht, simsonplatz 1, 04107 leipzig,\n",
      "\n",
      "freq:  61 length 21\n",
      "bedarf es nicht. die revision ist innerhalb eines monats nach zustellung dieses beschlusses zu begründen. die begründung ist bei dem bundesverwaltungsgericht,\n",
      "\n",
      "freq:  57 length 21\n",
      "es nicht. die revision ist innerhalb eines monats nach zustellung dieses beschlusses zu begründen. die begründung ist bei dem bundesverwaltungsgericht, simsonplatz\n",
      "\n",
      "freq:  55 length 21\n",
      "nicht. die revision ist innerhalb eines monats nach zustellung dieses beschlusses zu begründen. die begründung ist bei dem bundesverwaltungsgericht, simsonplatz 1,\n",
      "\n",
      "freq:  54 length 21\n",
      "der einlegung einer revision durch den beschwerdeführer bedarf es nicht. die revision ist innerhalb eines monats nach zustellung dieses beschlusses zu\n",
      "\n",
      "freq:  62 length 20\n",
      "die revision ist innerhalb eines monats nach zustellung dieses beschlusses zu begründen. die begründung ist bei dem bundesverwaltungsgericht, simsonplatz 1,\n",
      "\n",
      "freq:  62 length 20\n",
      "revision ist innerhalb eines monats nach zustellung dieses beschlusses zu begründen. die begründung ist bei dem bundesverwaltungsgericht, simsonplatz 1, 04107\n",
      "\n",
      "freq:  62 length 20\n",
      "ist innerhalb eines monats nach zustellung dieses beschlusses zu begründen. die begründung ist bei dem bundesverwaltungsgericht, simsonplatz 1, 04107 leipzig,\n",
      "\n",
      "freq:  61 length 20\n",
      "bedarf es nicht. die revision ist innerhalb eines monats nach zustellung dieses beschlusses zu begründen. die begründung ist bei dem\n",
      "\n",
      "freq:  61 length 20\n",
      "es nicht. die revision ist innerhalb eines monats nach zustellung dieses beschlusses zu begründen. die begründung ist bei dem bundesverwaltungsgericht,\n",
      "\n",
      "freq:  57 length 20\n",
      "nicht. die revision ist innerhalb eines monats nach zustellung dieses beschlusses zu begründen. die begründung ist bei dem bundesverwaltungsgericht, simsonplatz\n",
      "\n"
     ]
    }
   ],
   "source": [
    "for i in range(len(phrases)):\n",
    "    print(\"freq: \", frequencies[i], \"length\", lengths[i])\n",
    "    print(phrases[i])\n",
    "    print(\"\")"
   ]
  },
  {
   "cell_type": "code",
   "execution_count": null,
   "metadata": {},
   "outputs": [],
   "source": []
  },
  {
   "cell_type": "code",
   "execution_count": null,
   "metadata": {},
   "outputs": [],
   "source": [
    "plt.title(\"anzahl dokumente nach verfahrensart für top 6 verfahrensarten. \")\n",
    "subset = df.groupby(['Verfahrensart', 'Entscheidungsart']).size()\n",
    "subset[subset > 200].sort_values().plot(kind='bar')\n",
    "plt.show()\n",
    "count = minidf['text'].str.split(\" \").apply(len).sort_values()\n",
    "plt.xscale(\"log\")\n",
    "count.plot.hist(bins=100)\n",
    "plt.show()"
   ]
  },
  {
   "cell_type": "code",
   "execution_count": 20,
   "metadata": {},
   "outputs": [
    {
     "ename": "NameError",
     "evalue": "name 'single_row' is not defined",
     "output_type": "error",
     "traceback": [
      "\u001b[0;31m---------------------------------------------------------------------------\u001b[0m",
      "\u001b[0;31mNameError\u001b[0m                                 Traceback (most recent call last)",
      "\u001b[0;32m<ipython-input-20-2b8edf34cf55>\u001b[0m in \u001b[0;36m<module>\u001b[0;34m\u001b[0m\n\u001b[1;32m     18\u001b[0m \u001b[0;34m\u001b[0m\u001b[0m\n\u001b[1;32m     19\u001b[0m \u001b[0;34m\u001b[0m\u001b[0m\n\u001b[0;32m---> 20\u001b[0;31m \u001b[0mtempdf\u001b[0m \u001b[0;34m=\u001b[0m \u001b[0msingle_row\u001b[0m\u001b[0;34m[\u001b[0m\u001b[0;34m'text'\u001b[0m\u001b[0;34m]\u001b[0m\u001b[0;34m.\u001b[0m\u001b[0mapply\u001b[0m\u001b[0;34m(\u001b[0m\u001b[0mnormalize\u001b[0m\u001b[0;34m,\u001b[0m \u001b[0mlowercase\u001b[0m\u001b[0;34m=\u001b[0m\u001b[0;32mTrue\u001b[0m\u001b[0;34m,\u001b[0m \u001b[0mremove_stopwords\u001b[0m\u001b[0;34m=\u001b[0m\u001b[0;32mFalse\u001b[0m\u001b[0;34m)\u001b[0m\u001b[0;34m\u001b[0m\u001b[0;34m\u001b[0m\u001b[0m\n\u001b[0m",
      "\u001b[0;31mNameError\u001b[0m: name 'single_row' is not defined"
     ]
    }
   ],
   "source": [
    "import spacy #load spacy\n",
    "nlp = spacy.load(\"de_core_news_sm\", disable=['parser', 'tagger', 'ner'])\n",
    "#stopwords = stopwords.words(\"german\")\n",
    "\n",
    "def normalize(comment, lowercase, remove_stopwords):\n",
    "    if lowercase:\n",
    "        comment = comment.lower()\n",
    "    comment = nlp(comment)\n",
    "    lemmatized = list()\n",
    "    for word in comment:\n",
    "        lemma = word.lemma_.strip()\n",
    "        if lemma:\n",
    "            if not remove_stopwords or (remove_stopwords and lemma not in stops):\n",
    "                lemmatized.append(lemma)\n",
    "    return \" \".join(lemmatized)\n",
    "\n",
    "    \n",
    "\n",
    "\n",
    "tempdf = single_row['text'].apply(normalize, lowercase=True, remove_stopwords=False)\n"
   ]
  }
 ],
 "metadata": {
  "kernelspec": {
   "display_name": "Python 3",
   "language": "python",
   "name": "python3"
  },
  "language_info": {
   "codemirror_mode": {
    "name": "ipython",
    "version": 3
   },
   "file_extension": ".py",
   "mimetype": "text/x-python",
   "name": "python",
   "nbconvert_exporter": "python",
   "pygments_lexer": "ipython3",
   "version": "3.8.5"
  }
 },
 "nbformat": 4,
 "nbformat_minor": 4
}
