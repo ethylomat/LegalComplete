{
 "cells": [
  {
   "cell_type": "markdown",
   "metadata": {},
   "source": [
    "# Pattern extraction\n",
    "more information to why and how can be found in the README"
   ]
  },
  {
   "cell_type": "code",
   "execution_count": 218,
   "metadata": {},
   "outputs": [],
   "source": [
    "import re\n",
    "import collections\n",
    "import pandas as pd\n",
    "import numpy as np \n",
    "import matplotlib.pyplot as plt\n",
    "from tqdm import tqdm\n",
    "import nltk\n",
    "\n",
    "from collections import Counter"
   ]
  },
  {
   "cell_type": "code",
   "execution_count": 219,
   "metadata": {},
   "outputs": [],
   "source": [
    "\n",
    "df = pd.read_csv('../datasets/raw/2020_06_23_CE-BVerwG_DE_Datensatz.csv')"
   ]
  },
  {
   "cell_type": "markdown",
   "metadata": {},
   "source": [
    "### preprocessing"
   ]
  },
  {
   "cell_type": "code",
   "execution_count": 186,
   "metadata": {},
   "outputs": [],
   "source": [
    "kuerzel = pd.read_csv('../src/data/gesetzbuch_abbreviations.csv')['abbreviation'].tolist()\n",
    "minidf = df.sample(frac = 0.05)\n",
    "minidf['text_normalized'] = minidf['text'].str.replace(\"\\n\", \" \")\\\n",
    "    .replace(\"(\" + \"|\".join(kuerzel) + \")\", \"<gesetzbuch>\", regex=True).str.lower()\\\n",
    "    .replace('\\s+', ' ', regex=True)\\\n",
    "    .replace(\"[0-9]+\", \"<number>\", regex=True)\\\n",
    "    .replace(\"(januar|februar|märz|april|mai|juni|juli|august|september|oktober|november|dezember)\", \"<monat>\", regex=True)\\\n",
    "    .str.replace(\"<number>. <monat> <number>\", \"<datum>\")\n"
   ]
  },
  {
   "cell_type": "code",
   "execution_count": 187,
   "metadata": {},
   "outputs": [],
   "source": [
    "vocab = nltk.lm.Vocabulary(minidf['text_normalized'], unk_cutoff=10)\n",
    "data = []\n",
    "for judgement in minidf['text_normalized']:\n",
    "    data.extend(judgement.split(\" \"))\n",
    "filtered_data = [word for word in data if len(word) > 1 or not word.isalpha()]"
   ]
  },
  {
   "cell_type": "code",
   "execution_count": 188,
   "metadata": {},
   "outputs": [
    {
     "data": {
      "text/plain": [
       "1211"
      ]
     },
     "execution_count": 188,
     "metadata": {},
     "output_type": "execute_result"
    }
   ],
   "source": [
    "len(minidf)"
   ]
  },
  {
   "cell_type": "code",
   "execution_count": null,
   "metadata": {},
   "outputs": [],
   "source": []
  },
  {
   "cell_type": "code",
   "execution_count": 194,
   "metadata": {},
   "outputs": [],
   "source": [
    "def compute_top_phrase_frequencies(min_len, max_len=None):\n",
    "    \"\"\" computes all ngrams and selects the 1000 most frequent ngrams\"\"\"\n",
    "    if not max_len:\n",
    "        max_len = min_len\n",
    "    longgrams = list(nltk.everygrams(filtered_data, min_len, max_len))\n",
    "    most_common = Counter(longgrams)\n",
    "    most_common = most_common.most_common(1000)\n",
    "    return most_common"
   ]
  },
  {
   "cell_type": "code",
   "execution_count": 192,
   "metadata": {},
   "outputs": [
    {
     "name": "stderr",
     "output_type": "stream",
     "text": [
      "100%|██████████| 96/96 [04:46<00:00,  2.99s/it]\n"
     ]
    }
   ],
   "source": [
    "minlen = 4\n",
    "maxlen = 150\n",
    "common_phrases = {}\n",
    "for i in tqdm(range(minlen, maxlen)):\n",
    "    common_phrases[i] = compute_top_phrase_frequencies(i)\n"
   ]
  },
  {
   "cell_type": "code",
   "execution_count": 205,
   "metadata": {},
   "outputs": [],
   "source": [
    "def filter_duplicate_phrases(most_common, minlen, maxlen, top_n=10) -> (list, list, list):\n",
    "    \"\"\" many frequent ngrams are similar verions of each other.\n",
    "    In order to show unique patterns one must filter out the similar ones\n",
    "    Args:\n",
    "        most_common dict(int: list(list(str))): this dict contains the detectedcommon ngrams\n",
    "            these are seperated by the length of the ngram. they key is the length of the \n",
    "            ngram and value is the list of ngrams at this length.\n",
    "        top_n (int): max number of ngrams to keep per ngram length after filtering\n",
    "        \"\"\"\n",
    "    phrases = []\n",
    "    frequencies = []\n",
    "    lengths = []\n",
    "    \n",
    "    # selects subset of all most_common ngrams\n",
    "    # this facilitates visualization \n",
    "    selected_keys = [key for key in list(most_common.keys()) \n",
    "                      if key < maxlen and key > minlen]\n",
    "\n",
    "    for length in selected_keys[::-1]:  # iterate over ngrams of length 'length'\n",
    "        counter = 0\n",
    "        previous_frequencies = []\n",
    "        \n",
    "        for phrase, frequency in most_common[length]:\n",
    "            phrase_candidate = \" \".join(phrase)\n",
    "\n",
    "            # only add to list of patterns if phrase is new or if \n",
    "            # it is a substring of an existing pattern but occurs 2x more frequently\n",
    "            unseen_pattern = True\n",
    "            for i in range(len(phrases)):\n",
    "                if phrase_candidate in phrases[i] and frequency <= frequencies[i]*2:\n",
    "                    unseen_pattern = False\n",
    "                    break\n",
    "            \n",
    "            if unseen_pattern and frequency not in previous_frequencies:\n",
    "                phrases.append(phrase_candidate)\n",
    "                lengths.append(length)\n",
    "                \n",
    "                frequencies.append(frequency)\n",
    "                counter += 1\n",
    "                if counter >= top_n:\n",
    "                    break\n",
    "                \n",
    "\n",
    "    return phrases, frequencies, lengths"
   ]
  },
  {
   "cell_type": "code",
   "execution_count": 211,
   "metadata": {},
   "outputs": [],
   "source": [
    "def plot_result(phrases, frequencies, lengths):\n",
    "    fig = plt.figure(figsize =(8,8))\n",
    "    plt.title(\"most common ngrams\")\n",
    "\n",
    "    plt.ylabel(\"frequency\")\n",
    "    plt.xlabel(\"lenth of ngrams in words\")\n",
    "    plt.scatter(lengths, frequencies)\n",
    "    plt.show()\n",
    "\n",
    "\n",
    "def print_result(phrases, frequencies, lengths):\n",
    "    for i in range(len(phrases)):\n",
    "        print(\"freq: \", frequencies[i], \"length\", lengths[i])\n",
    "        print(phrases[i])\n",
    "        print(\"\")"
   ]
  },
  {
   "cell_type": "code",
   "execution_count": 216,
   "metadata": {},
   "outputs": [
    {
     "data": {
      "image/png": "[encoded data removed]",
      "text/plain": [
       "<Figure size 576x576 with 1 Axes>"
      ]
     },
     "metadata": {
      "needs_background": "light"
     },
     "output_type": "display_data"
    }
   ],
   "source": [
    "phrases, frequencies, lengths = filter_duplicate_phrases(common_phrases, 2, 15, 1)\n",
    "plot_result(phrases, frequencies, lengths)\n"
   ]
  },
  {
   "cell_type": "code",
   "execution_count": 217,
   "metadata": {},
   "outputs": [
    {
     "name": "stdout",
     "output_type": "stream",
     "text": [
      "freq:  643 length 14\n",
      "hat der <number>. senat des bundesverwaltungsgerichts am <datum> durch den vorsitzenden richter am bundesverwaltungsgericht\n",
      "\n",
      "freq:  400 length 13\n",
      "in der verwaltungsstreitsache -<number>- hat der <number>. senat des bundesverwaltungsgerichts am <datum> durch\n",
      "\n",
      "freq:  366 length 12\n",
      "in der verwaltungsstreitsache hat der <number>. senat des bundesverwaltungsgerichts am <datum> durch\n",
      "\n",
      "freq:  510 length 11\n",
      "vom <datum> - bverwg <number> <number>.<number> - buchholz <number> § <number>\n",
      "\n",
      "freq:  757 length 10\n",
      "vom <datum> - bverwg <number> <number>.<number> - bverwge <number>, <number>\n",
      "\n",
      "freq:  438 length 9\n",
      "vom <datum> - bverwg <number> <number>.<number> - buchholz <number>.<number>\n",
      "\n",
      "freq:  1036 length 8\n",
      "vom <datum> - bverwg <number> <number>.<number> - buchholz\n",
      "\n",
      "freq:  2734 length 7\n",
      "vom <datum> - bverwg <number> <number>.<number> -\n",
      "\n",
      "freq:  4836 length 6\n",
      "§ <number> abs. <number> satz <number>\n",
      "\n",
      "freq:  2496 length 5\n",
      "des § <number> abs. <number>\n",
      "\n",
      "freq:  13942 length 4\n",
      "§ <number> abs. <number>\n",
      "\n"
     ]
    }
   ],
   "source": [
    "print_result(phrases, frequencies, lengths)"
   ]
  },
  {
   "cell_type": "code",
   "execution_count": 214,
   "metadata": {},
   "outputs": [
    {
     "data": {
      "image/png": "[encoded data removed]",
      "text/plain": [
       "<Figure size 576x576 with 1 Axes>"
      ]
     },
     "metadata": {
      "needs_background": "light"
     },
     "output_type": "display_data"
    }
   ],
   "source": [
    "phrases, frequencies, lengths = filter_duplicate_phrases(common_phrases, 15, 50, 1)\n",
    "plot_result(phrases, frequencies, lengths)\n"
   ]
  },
  {
   "cell_type": "code",
   "execution_count": 215,
   "metadata": {
    "scrolled": true
   },
   "outputs": [
    {
     "name": "stdout",
     "output_type": "stream",
     "text": [
      "freq:  66 length 49\n",
      "<number>, <number>, <number>, <number>, <number>, <number>, <number>, <number>, <number>, <number>, <number>, <number>, <number>, <number>, <number>, <number>, <number>, <number>, <number>, <number>, <number>, <number>, <number>, <number>, <number>, <number>, <number>, <number>, <number>, <number>, <number>, <number>, <number>, <number>, <number>, <number>, <number>, <number>, <number>, <number>, <number>, <number>, <number>, <number>, <number>, <number>, <number>, <number>, <number>,\n",
      "\n",
      "freq:  22 length 48\n",
      "sich durch einen rechtsanwalt oder einen rechtslehrer an einer deutschen hochschule im sinne des hochschulrahmengesetzes mit befähigung zum richteramt als bevollmächtigten vertreten lassen. juristische personen des öffentlichen rechts und behörden können sich auch durch beamte oder angestellte mit befähigung zum richteramt sowie diplomjuristen im höheren dienst, gebietskörperschaften ferner\n",
      "\n",
      "freq:  22 length 47\n",
      "einen rechtsanwalt oder einen rechtslehrer an einer deutschen hochschule im sinne des hochschulrahmengesetzes mit befähigung zum richteramt als bevollmächtigten vertreten lassen. juristische personen des öffentlichen rechts und behörden können sich auch durch beamte oder angestellte mit befähigung zum richteramt sowie diplomjuristen im höheren dienst, gebietskörperschaften ferner durch\n",
      "\n",
      "freq:  22 length 46\n",
      "oder einen rechtslehrer an einer deutschen hochschule im sinne des hochschulrahmengesetzes mit befähigung zum richteramt als bevollmächtigten vertreten lassen. juristische personen des öffentlichen rechts und behörden können sich auch durch beamte oder angestellte mit befähigung zum richteramt sowie diplomjuristen im höheren dienst, gebietskörperschaften ferner durch beamte\n",
      "\n",
      "freq:  24 length 45\n",
      "der einlegung einer revision durch den beschwerdeführer bedarf es nicht. die revision ist innerhalb eines monats nach zustellung dieses beschlusses zu begründen. die begründung ist bei dem bundesverwaltungsgericht, simsonplatz <number>, <number> leipzig, schriftlich oder in elektronischer form (verordnung vom <datum>, <gesetzbuch>l s. <number>) einzureichen. für\n",
      "\n",
      "freq:  23 length 44\n",
      "für den revisionskläger besteht vertretungszwang; dies gilt auch für die begründung der revision. der revisionskläger muss sich durch einen rechtsanwalt oder einen rechtslehrer an einer deutschen hochschule im sinne des hochschulrahmengesetzes mit befähigung zum richteramt als bevollmächtigten vertreten lassen. juristische personen des öffentlichen rechts\n",
      "\n",
      "freq:  23 length 43\n",
      "revisionskläger besteht vertretungszwang; dies gilt auch für die begründung der revision. der revisionskläger muss sich durch einen rechtsanwalt oder einen rechtslehrer an einer deutschen hochschule im sinne des hochschulrahmengesetzes mit befähigung zum richteramt als bevollmächtigten vertreten lassen. juristische personen des öffentlichen rechts und\n",
      "\n",
      "freq:  22 length 42\n",
      "dieses beschlusses zu begründen. die begründung ist bei dem bundesverwaltungsgericht, simsonplatz <number>, <number> leipzig, schriftlich oder in elektronischer form (verordnung vom <datum>, <gesetzbuch>l s. <number>) einzureichen. für die beteiligten besteht vertretungszwang; dies gilt auch für die begründung der revision. die beteiligten müssen\n",
      "\n",
      "freq:  22 length 41\n",
      "zu begründen. die begründung ist bei dem bundesverwaltungsgericht, simsonplatz <number>, <number> leipzig, schriftlich oder in elektronischer form (verordnung vom <datum>, <gesetzbuch>l s. <number>) einzureichen. für die beteiligten besteht vertretungszwang; dies gilt auch für die begründung der revision. die beteiligten müssen sich\n",
      "\n",
      "freq:  25 length 40\n",
      "das beschwerdeverfahren wird als revisionsverfahren unter dem aktenzeichen bverwg <number> <number>.<number> fortgesetzt; der einlegung einer revision durch den beschwerdeführer bedarf es nicht. die revision ist innerhalb eines monats nach zustellung dieses beschlusses zu begründen. die begründung ist bei dem bundesverwaltungsgericht,\n",
      "\n",
      "freq:  24 length 39\n",
      "<number>.<number> fortgesetzt. der einlegung einer revision durch den beschwerdeführer bedarf es nicht. die revision ist innerhalb eines monats nach zustellung dieses beschlusses zu begründen. die begründung ist bei dem bundesverwaltungsgericht, simsonplatz <number>, <number> leipzig, schriftlich oder in elektronischer form\n",
      "\n",
      "freq:  23 length 38\n",
      "<number> <number>.<number> fortgesetzt. der einlegung einer revision durch den beschwerdeführer bedarf es nicht. die revision ist innerhalb eines monats nach zustellung dieses beschlusses zu begründen. die begründung ist bei dem bundesverwaltungsgericht, simsonplatz <number>, <number> leipzig, schriftlich oder in\n",
      "\n",
      "freq:  23 length 37\n",
      "mit befähigung zum richteramt als bevollmächtigten vertreten lassen. juristische personen des öffentlichen rechts und behörden können sich auch durch beamte oder angestellte mit befähigung zum richteramt sowie diplomjuristen im höheren dienst, gebietskörperschaften ferner durch beamte oder angestellte\n",
      "\n",
      "freq:  23 length 36\n",
      "zum richteramt als bevollmächtigten vertreten lassen. juristische personen des öffentlichen rechts und behörden können sich auch durch beamte oder angestellte mit befähigung zum richteramt sowie diplomjuristen im höheren dienst, gebietskörperschaften ferner durch beamte oder angestellte mit\n",
      "\n",
      "freq:  22 length 35\n",
      "bundesverwaltungsgericht, simsonplatz <number>, <number> leipzig, schriftlich oder in elektronischer form (verordnung vom <datum>, <gesetzbuch>l s. <number>) einzureichen. für die beteiligten besteht vertretungszwang; dies gilt auch für die begründung der revision. die beteiligten müssen sich durch\n",
      "\n",
      "freq:  25 length 34\n",
      "befähigung zum richteramt der zuständigen aufsichtsbehörde oder des jeweiligen kommunalen spitzenverbandes des landes, dem sie als mitglied zugehören, vertreten lassen. in derselben weise muss sich jeder beteiligte vertreten lassen, soweit er einen antrag stellt.\n",
      "\n",
      "freq:  35 length 33\n",
      "vom <datum> mit schriftsatz vom <datum> zurückgenommen. das beschwerdeverfahren ist deshalb in entsprechender anwendung von § <number> satz <number>, § <number> abs. <number> satz <number>, § <number> abs. <number> satz <number> <gesetzbuch> einzustellen.\n",
      "\n",
      "freq:  134 length 32\n",
      "<number>, <number>, <number>, <number>, <number>, <number>, <number>, <number>, <number>, <number>, <number>, <number>, <number>, <number>, <number>, <number>, <number>, <number>, <number>, <number>, <number>, <number>, <number>, <number>, <number>, <number>, <number>, <number>, <number>, <number>, <number>, <number>,\n",
      "\n",
      "freq:  51 length 31\n",
      "der einlegung einer revision durch den beschwerdeführer bedarf es nicht. die revision ist innerhalb eines monats nach zustellung dieses beschlusses zu begründen. die begründung ist bei dem bundesverwaltungsgericht, simsonplatz <number>, <number>\n",
      "\n",
      "freq:  51 length 30\n",
      "einer revision durch den beschwerdeführer bedarf es nicht. die revision ist innerhalb eines monats nach zustellung dieses beschlusses zu begründen. die begründung ist bei dem bundesverwaltungsgericht, simsonplatz <number>, <number> leipzig,\n",
      "\n",
      "freq:  30 length 29\n",
      "für die beteiligten besteht vertretungszwang; dies gilt auch für die begründung der revision. die beteiligten müssen sich durch bevollmächtigte im sinne von § <number> abs. <number> satz <number> bis\n",
      "\n",
      "freq:  30 length 28\n",
      "beteiligten besteht vertretungszwang; dies gilt auch für die begründung der revision. die beteiligten müssen sich durch bevollmächtigte im sinne von § <number> abs. <number> satz <number> bis <number>\n",
      "\n",
      "freq:  52 length 27\n",
      " bundesverwaltungsgericht beschluss bverwg <number> <number>.<number> ovg <number> <number>/<number> in der verwaltungsstreitsache -<number>- hat der <number>. senat des bundesverwaltungsgerichts am <datum> durch den vorsitzenden richter am bundesverwaltungsgericht\n",
      "\n",
      "freq:  109 length 26\n",
      "als urkundsbeamtin der geschäftsstelle in der verwaltungsstreitsache -<number>- hat der <number>. senat des bundesverwaltungsgerichts auf die mündliche verhandlung vom <datum> durch den vorsitzenden richter am bundesverwaltungsgericht\n",
      "\n",
      "freq:  44 length 25\n",
      " bundesverwaltungsgericht beschluss bverwg <number> <number>.<number> ovg <number> <number>/<number> in der verwaltungsstreitsache hat der <number>. senat des bundesverwaltungsgerichts am <datum> durch den vorsitzenden richter am\n",
      "\n",
      "freq:  56 length 24\n",
      "<number>/<number> in der verwaltungsstreitsache hat der <number>. senat des bundesverwaltungsgerichts am <datum> durch den vorsitzenden richter am bundesverwaltungsgericht dr. und die richter am bundesverwaltungsgericht\n",
      "\n",
      "freq:  45 length 23\n",
      "bverwg <number> <number>.<number> ovg <number> <number>/<number> in der verwaltungsstreitsache hat der <number>. senat des bundesverwaltungsgerichts am <datum> durch den vorsitzenden richter am bundesverwaltungsgericht\n",
      "\n",
      "freq:  49 length 22\n",
      " bundesverwaltungsgericht beschluss bverwg <number> <number>.<number> vg <number> <number>/<number> in der verwaltungsstreitsache -<number>- hat der <number>. senat des bundesverwaltungsgerichts am <datum> durch\n",
      "\n",
      "freq:  74 length 21\n",
      "trägt die kosten des beschwerdeverfahrens. der wert des streitgegenstandes wird für das beschwerdeverfahren auf <number> <number> € festgesetzt. gründe: <number> die\n",
      "\n",
      "freq:  145 length 20\n",
      "<number> <number>/<number> in der verwaltungsstreitsache -<number>- hat der <number>. senat des bundesverwaltungsgerichts am <datum> durch den vorsitzenden richter am bundesverwaltungsgericht\n",
      "\n",
      "freq:  120 length 19\n",
      "<number> <number>/<number> in der verwaltungsstreitsache hat der <number>. senat des bundesverwaltungsgerichts am <datum> durch den vorsitzenden richter am bundesverwaltungsgericht\n",
      "\n",
      "freq:  115 length 18\n",
      "der <number>. senat des bundesverwaltungsgerichts am <datum> durch den vorsitzenden richter am bundesverwaltungsgericht dr. und die richter am\n",
      "\n",
      "freq:  243 length 17\n",
      "in der verwaltungsstreitsache hat der <number>. senat des bundesverwaltungsgerichts am <datum> durch den vorsitzenden richter am bundesverwaltungsgericht\n",
      "\n",
      "freq:  159 length 16\n",
      "die kosten des beschwerdeverfahrens. der wert des streitgegenstandes wird für das beschwerdeverfahren auf <number> <number> €\n",
      "\n"
     ]
    }
   ],
   "source": [
    "print_result(phrases, frequencies, lengths)"
   ]
  },
  {
   "cell_type": "code",
   "execution_count": 225,
   "metadata": {},
   "outputs": [
    {
     "name": "stdout",
     "output_type": "stream",
     "text": [
      "freq:  17 length 99\n",
      "für den revisionskläger besteht vertretungszwang; dies gilt auch für die begründung der revision. der revisionskläger muss sich durch einen rechtsanwalt oder einen rechtslehrer an einer deutschen hochschule im sinne des hochschulrahmengesetzes mit befähigung zum richteramt als bevollmächtigten vertreten lassen. juristische personen des öffentlichen rechts und behörden können sich auch durch beamte oder angestellte mit befähigung zum richteramt sowie diplomjuristen im höheren dienst, gebietskörperschaften ferner durch beamte oder angestellte mit befähigung zum richteramt der zuständigen aufsichtsbehörde oder des jeweiligen kommunalen spitzenverbandes des landes, dem sie als mitglied zugehören, vertreten lassen. in derselben weise muss sich jeder beteiligte vertreten lassen, soweit\n",
      "\n",
      "freq:  17 length 98\n",
      "revisionskläger besteht vertretungszwang; dies gilt auch für die begründung der revision. der revisionskläger muss sich durch einen rechtsanwalt oder einen rechtslehrer an einer deutschen hochschule im sinne des hochschulrahmengesetzes mit befähigung zum richteramt als bevollmächtigten vertreten lassen. juristische personen des öffentlichen rechts und behörden können sich auch durch beamte oder angestellte mit befähigung zum richteramt sowie diplomjuristen im höheren dienst, gebietskörperschaften ferner durch beamte oder angestellte mit befähigung zum richteramt der zuständigen aufsichtsbehörde oder des jeweiligen kommunalen spitzenverbandes des landes, dem sie als mitglied zugehören, vertreten lassen. in derselben weise muss sich jeder beteiligte vertreten lassen, soweit er\n",
      "\n",
      "freq:  17 length 97\n",
      "vertretungszwang; dies gilt auch für die begründung der revision. der revisionskläger muss sich durch einen rechtsanwalt oder einen rechtslehrer an einer deutschen hochschule im sinne des hochschulrahmengesetzes mit befähigung zum richteramt als bevollmächtigten vertreten lassen. juristische personen des öffentlichen rechts und behörden können sich auch durch beamte oder angestellte mit befähigung zum richteramt sowie diplomjuristen im höheren dienst, gebietskörperschaften ferner durch beamte oder angestellte mit befähigung zum richteramt der zuständigen aufsichtsbehörde oder des jeweiligen kommunalen spitzenverbandes des landes, dem sie als mitglied zugehören, vertreten lassen. in derselben weise muss sich jeder beteiligte vertreten lassen, soweit er einen\n",
      "\n",
      "freq:  17 length 96\n",
      "gilt auch für die begründung der revision. der revisionskläger muss sich durch einen rechtsanwalt oder einen rechtslehrer an einer deutschen hochschule im sinne des hochschulrahmengesetzes mit befähigung zum richteramt als bevollmächtigten vertreten lassen. juristische personen des öffentlichen rechts und behörden können sich auch durch beamte oder angestellte mit befähigung zum richteramt sowie diplomjuristen im höheren dienst, gebietskörperschaften ferner durch beamte oder angestellte mit befähigung zum richteramt der zuständigen aufsichtsbehörde oder des jeweiligen kommunalen spitzenverbandes des landes, dem sie als mitglied zugehören, vertreten lassen. in derselben weise muss sich jeder beteiligte vertreten lassen, soweit er einen antrag\n",
      "\n",
      "freq:  17 length 95\n",
      "für die begründung der revision. der revisionskläger muss sich durch einen rechtsanwalt oder einen rechtslehrer an einer deutschen hochschule im sinne des hochschulrahmengesetzes mit befähigung zum richteramt als bevollmächtigten vertreten lassen. juristische personen des öffentlichen rechts und behörden können sich auch durch beamte oder angestellte mit befähigung zum richteramt sowie diplomjuristen im höheren dienst, gebietskörperschaften ferner durch beamte oder angestellte mit befähigung zum richteramt der zuständigen aufsichtsbehörde oder des jeweiligen kommunalen spitzenverbandes des landes, dem sie als mitglied zugehören, vertreten lassen. in derselben weise muss sich jeder beteiligte vertreten lassen, soweit er einen antrag stellt.\n",
      "\n",
      "freq:  14 length 94\n",
      "einzureichen. für den revisionskläger besteht vertretungszwang; dies gilt auch für die begründung der revision. der revisionskläger muss sich durch einen rechtsanwalt oder einen rechtslehrer an einer deutschen hochschule im sinne des hochschulrahmengesetzes mit befähigung zum richteramt als bevollmächtigten vertreten lassen. juristische personen des öffentlichen rechts und behörden können sich auch durch beamte oder angestellte mit befähigung zum richteramt sowie diplomjuristen im höheren dienst, gebietskörperschaften ferner durch beamte oder angestellte mit befähigung zum richteramt der zuständigen aufsichtsbehörde oder des jeweiligen kommunalen spitzenverbandes des landes, dem sie als mitglied zugehören, vertreten lassen. in derselben weise muss\n",
      "\n",
      "freq:  8 length 93\n",
      "rechtsmittelbelehrung das beschwerdeverfahren wird als revisionsverfahren unter dem aktenzeichen bverwg <number> <number>.<number> fortgesetzt; der einlegung einer revision durch den beschwerdeführer bedarf es nicht. die revision ist innerhalb eines monats nach zustellung dieses beschlusses zu begründen. die begründung ist bei dem bundesverwaltungsgericht, simsonplatz <number>, <number> leipzig, einzureichen. für den revisionskläger besteht vertretungszwang; dies gilt auch für die begründung der revision. der revisionskläger muss sich durch einen rechtsanwalt oder einen rechtslehrer an einer deutschen hochschule im sinne des hochschulrahmengesetzes mit befähigung zum richteramt als bevollmächtigten vertreten lassen. juristische personen des öffentlichen rechts und behörden können\n",
      "\n",
      "freq:  9 length 92\n",
      "die revision ist innerhalb eines monats nach zustellung dieses beschlusses zu begründen. die begründung ist bei dem bundesverwaltungsgericht, simsonplatz <number>, <number> leipzig, einzureichen. für den revisionskläger besteht vertretungszwang; dies gilt auch für die begründung der revision. der revisionskläger muss sich durch einen rechtsanwalt oder einen rechtslehrer an einer deutschen hochschule im sinne des hochschulrahmengesetzes mit befähigung zum richteramt als bevollmächtigten vertreten lassen. juristische personen des öffentlichen rechts und behörden können sich auch durch beamte oder angestellte mit befähigung zum richteramt sowie diplomjuristen im höheren dienst, gebietskörperschaften ferner durch beamte oder angestellte mit\n",
      "\n",
      "freq:  8 length 91\n",
      "wird als revisionsverfahren unter dem aktenzeichen bverwg <number> <number>.<number> fortgesetzt; der einlegung einer revision durch den beschwerdeführer bedarf es nicht. die revision ist innerhalb eines monats nach zustellung dieses beschlusses zu begründen. die begründung ist bei dem bundesverwaltungsgericht, simsonplatz <number>, <number> leipzig, einzureichen. für den revisionskläger besteht vertretungszwang; dies gilt auch für die begründung der revision. der revisionskläger muss sich durch einen rechtsanwalt oder einen rechtslehrer an einer deutschen hochschule im sinne des hochschulrahmengesetzes mit befähigung zum richteramt als bevollmächtigten vertreten lassen. juristische personen des öffentlichen rechts und behörden können sich\n",
      "\n",
      "freq:  8 length 90\n",
      "rechtsbehelfsbelehrung das beschwerdeverfahren wird als revisionsverfahren unter dem aktenzeichen bverwg <number> <number>.<number> fortgesetzt. der einlegung einer revision durch den beschwerdeführer bedarf es nicht. die revision ist innerhalb eines monats nach zustellung dieses beschlusses zu begründen. die begründung ist bei dem bundesverwaltungsgericht, simsonplatz <number>, <number> leipzig, schriftlich oder in elektronischer form (verordnung vom <datum>, <gesetzbuch>l s. <number>) einzureichen. für die beteiligten besteht vertretungszwang; dies gilt auch für die begründung der revision. die beteiligten müssen sich durch bevollmächtigte im sinne von § <number> abs. <number> satz <number> bis <number> <gesetzbuch> vertreten lassen.\n",
      "\n",
      "freq:  8 length 89\n",
      "unter dem aktenzeichen bverwg <number> <number>.<number> fortgesetzt; der einlegung einer revision durch den beschwerdeführer bedarf es nicht. die revision ist innerhalb eines monats nach zustellung dieses beschlusses zu begründen. die begründung ist bei dem bundesverwaltungsgericht, simsonplatz <number>, <number> leipzig, einzureichen. für den revisionskläger besteht vertretungszwang; dies gilt auch für die begründung der revision. der revisionskläger muss sich durch einen rechtsanwalt oder einen rechtslehrer an einer deutschen hochschule im sinne des hochschulrahmengesetzes mit befähigung zum richteramt als bevollmächtigten vertreten lassen. juristische personen des öffentlichen rechts und behörden können sich auch\n",
      "\n",
      "freq:  8 length 88\n",
      "aktenzeichen bverwg <number> <number>.<number> fortgesetzt; der einlegung einer revision durch den beschwerdeführer bedarf es nicht. die revision ist innerhalb eines monats nach zustellung dieses beschlusses zu begründen. die begründung ist bei dem bundesverwaltungsgericht, simsonplatz <number>, <number> leipzig, einzureichen. für den revisionskläger besteht vertretungszwang; dies gilt auch für die begründung der revision. der revisionskläger muss sich durch einen rechtsanwalt oder einen rechtslehrer an einer deutschen hochschule im sinne des hochschulrahmengesetzes mit befähigung zum richteramt als bevollmächtigten vertreten lassen. juristische personen des öffentlichen rechts und behörden können sich auch durch\n",
      "\n",
      "freq:  8 length 87\n",
      "<number> <number>.<number> fortgesetzt; der einlegung einer revision durch den beschwerdeführer bedarf es nicht. die revision ist innerhalb eines monats nach zustellung dieses beschlusses zu begründen. die begründung ist bei dem bundesverwaltungsgericht, simsonplatz <number>, <number> leipzig, einzureichen. für den revisionskläger besteht vertretungszwang; dies gilt auch für die begründung der revision. der revisionskläger muss sich durch einen rechtsanwalt oder einen rechtslehrer an einer deutschen hochschule im sinne des hochschulrahmengesetzes mit befähigung zum richteramt als bevollmächtigten vertreten lassen. juristische personen des öffentlichen rechts und behörden können sich auch durch beamte\n",
      "\n",
      "freq:  8 length 86\n",
      "fortgesetzt; der einlegung einer revision durch den beschwerdeführer bedarf es nicht. die revision ist innerhalb eines monats nach zustellung dieses beschlusses zu begründen. die begründung ist bei dem bundesverwaltungsgericht, simsonplatz <number>, <number> leipzig, einzureichen. für den revisionskläger besteht vertretungszwang; dies gilt auch für die begründung der revision. der revisionskläger muss sich durch einen rechtsanwalt oder einen rechtslehrer an einer deutschen hochschule im sinne des hochschulrahmengesetzes mit befähigung zum richteramt als bevollmächtigten vertreten lassen. juristische personen des öffentlichen rechts und behörden können sich auch durch beamte oder\n",
      "\n",
      "freq:  8 length 85\n",
      "einlegung einer revision durch den beschwerdeführer bedarf es nicht. die revision ist innerhalb eines monats nach zustellung dieses beschlusses zu begründen. die begründung ist bei dem bundesverwaltungsgericht, simsonplatz <number>, <number> leipzig, einzureichen. für den revisionskläger besteht vertretungszwang; dies gilt auch für die begründung der revision. der revisionskläger muss sich durch einen rechtsanwalt oder einen rechtslehrer an einer deutschen hochschule im sinne des hochschulrahmengesetzes mit befähigung zum richteramt als bevollmächtigten vertreten lassen. juristische personen des öffentlichen rechts und behörden können sich auch durch beamte oder angestellte\n",
      "\n",
      "freq:  8 length 84\n",
      "revision durch den beschwerdeführer bedarf es nicht. die revision ist innerhalb eines monats nach zustellung dieses beschlusses zu begründen. die begründung ist bei dem bundesverwaltungsgericht, simsonplatz <number>, <number> leipzig, einzureichen. für den revisionskläger besteht vertretungszwang; dies gilt auch für die begründung der revision. der revisionskläger muss sich durch einen rechtsanwalt oder einen rechtslehrer an einer deutschen hochschule im sinne des hochschulrahmengesetzes mit befähigung zum richteramt als bevollmächtigten vertreten lassen. juristische personen des öffentlichen rechts und behörden können sich auch durch beamte oder angestellte mit\n",
      "\n",
      "freq:  8 length 83\n",
      "den beschwerdeführer bedarf es nicht. die revision ist innerhalb eines monats nach zustellung dieses beschlusses zu begründen. die begründung ist bei dem bundesverwaltungsgericht, simsonplatz <number>, <number> leipzig, einzureichen. für den revisionskläger besteht vertretungszwang; dies gilt auch für die begründung der revision. der revisionskläger muss sich durch einen rechtsanwalt oder einen rechtslehrer an einer deutschen hochschule im sinne des hochschulrahmengesetzes mit befähigung zum richteramt als bevollmächtigten vertreten lassen. juristische personen des öffentlichen rechts und behörden können sich auch durch beamte oder angestellte mit befähigung\n",
      "\n",
      "freq:  8 length 82\n",
      "bedarf es nicht. die revision ist innerhalb eines monats nach zustellung dieses beschlusses zu begründen. die begründung ist bei dem bundesverwaltungsgericht, simsonplatz <number>, <number> leipzig, einzureichen. für den revisionskläger besteht vertretungszwang; dies gilt auch für die begründung der revision. der revisionskläger muss sich durch einen rechtsanwalt oder einen rechtslehrer an einer deutschen hochschule im sinne des hochschulrahmengesetzes mit befähigung zum richteramt als bevollmächtigten vertreten lassen. juristische personen des öffentlichen rechts und behörden können sich auch durch beamte oder angestellte mit befähigung zum\n",
      "\n",
      "freq:  8 length 81\n",
      "nicht. die revision ist innerhalb eines monats nach zustellung dieses beschlusses zu begründen. die begründung ist bei dem bundesverwaltungsgericht, simsonplatz <number>, <number> leipzig, einzureichen. für den revisionskläger besteht vertretungszwang; dies gilt auch für die begründung der revision. der revisionskläger muss sich durch einen rechtsanwalt oder einen rechtslehrer an einer deutschen hochschule im sinne des hochschulrahmengesetzes mit befähigung zum richteramt als bevollmächtigten vertreten lassen. juristische personen des öffentlichen rechts und behörden können sich auch durch beamte oder angestellte mit befähigung zum richteramt\n",
      "\n",
      "freq:  8 length 80\n",
      "simsonplatz <number>, <number> leipzig, einzureichen. für den revisionskläger besteht vertretungszwang; dies gilt auch für die begründung der revision. der revisionskläger muss sich durch einen rechtsanwalt oder einen rechtslehrer an einer deutschen hochschule im sinne des hochschulrahmengesetzes mit befähigung zum richteramt als bevollmächtigten vertreten lassen. juristische personen des öffentlichen rechts und behörden können sich auch durch beamte oder angestellte mit befähigung zum richteramt sowie diplomjuristen im höheren dienst, gebietskörperschaften ferner durch beamte oder angestellte mit befähigung zum richteramt der zuständigen aufsichtsbehörde\n",
      "\n",
      "freq:  9 length 79\n",
      "die revision ist innerhalb eines monats nach zustellung dieses beschlusses zu begründen. die begründung ist bei dem bundesverwaltungsgericht, simsonplatz <number>, <number> leipzig, schriftlich oder in elektronischer form (verordnung vom <datum>, <gesetzbuch>l s. <number>) einzureichen. für den revisionskläger besteht vertretungszwang; dies gilt auch für die begründung der revision. der revisionskläger muss sich durch einen rechtsanwalt oder einen rechtslehrer an einer deutschen hochschule im sinne des hochschulrahmengesetzes mit befähigung zum richteramt als bevollmächtigten vertreten lassen. juristische personen des öffentlichen rechts und\n",
      "\n",
      "freq:  8 length 78\n",
      "leipzig, einzureichen. für den revisionskläger besteht vertretungszwang; dies gilt auch für die begründung der revision. der revisionskläger muss sich durch einen rechtsanwalt oder einen rechtslehrer an einer deutschen hochschule im sinne des hochschulrahmengesetzes mit befähigung zum richteramt als bevollmächtigten vertreten lassen. juristische personen des öffentlichen rechts und behörden können sich auch durch beamte oder angestellte mit befähigung zum richteramt sowie diplomjuristen im höheren dienst, gebietskörperschaften ferner durch beamte oder angestellte mit befähigung zum richteramt der zuständigen aufsichtsbehörde oder\n",
      "\n",
      "freq:  7 length 77\n",
      "fortgesetzt; der einlegung einer revision durch den beschwerdeführer bedarf es nicht. die revision ist innerhalb eines monats nach zustellung dieses beschlusses zu begründen. die begründung ist bei dem bundesverwaltungsgericht, simsonplatz <number>, <number> leipzig, schriftlich oder in elektronischer form (verordnung vom <datum>, <gesetzbuch>l s. <number>) einzureichen. für den revisionskläger besteht vertretungszwang; dies gilt auch für die begründung der revision. der revisionskläger muss sich durch einen rechtsanwalt oder einen rechtslehrer an einer deutschen hochschule im sinne des hochschulrahmengesetzes mit\n",
      "\n",
      "freq:  7 length 76\n",
      "einlegung einer revision durch den beschwerdeführer bedarf es nicht. die revision ist innerhalb eines monats nach zustellung dieses beschlusses zu begründen. die begründung ist bei dem bundesverwaltungsgericht, simsonplatz <number>, <number> leipzig, schriftlich oder in elektronischer form (verordnung vom <datum>, <gesetzbuch>l s. <number>) einzureichen. für den revisionskläger besteht vertretungszwang; dies gilt auch für die begründung der revision. der revisionskläger muss sich durch einen rechtsanwalt oder einen rechtslehrer an einer deutschen hochschule im sinne des hochschulrahmengesetzes mit befähigung\n",
      "\n",
      "freq:  7 length 75\n",
      "revision durch den beschwerdeführer bedarf es nicht. die revision ist innerhalb eines monats nach zustellung dieses beschlusses zu begründen. die begründung ist bei dem bundesverwaltungsgericht, simsonplatz <number>, <number> leipzig, schriftlich oder in elektronischer form (verordnung vom <datum>, <gesetzbuch>l s. <number>) einzureichen. für den revisionskläger besteht vertretungszwang; dies gilt auch für die begründung der revision. der revisionskläger muss sich durch einen rechtsanwalt oder einen rechtslehrer an einer deutschen hochschule im sinne des hochschulrahmengesetzes mit befähigung zum\n",
      "\n",
      "freq:  7 length 74\n",
      "den beschwerdeführer bedarf es nicht. die revision ist innerhalb eines monats nach zustellung dieses beschlusses zu begründen. die begründung ist bei dem bundesverwaltungsgericht, simsonplatz <number>, <number> leipzig, schriftlich oder in elektronischer form (verordnung vom <datum>, <gesetzbuch>l s. <number>) einzureichen. für den revisionskläger besteht vertretungszwang; dies gilt auch für die begründung der revision. der revisionskläger muss sich durch einen rechtsanwalt oder einen rechtslehrer an einer deutschen hochschule im sinne des hochschulrahmengesetzes mit befähigung zum richteramt\n",
      "\n",
      "freq:  7 length 73\n",
      "mit befähigung zum richteramt als bevollmächtigten vertreten lassen. behörden und juristische personen des öffentlichen rechts einschließlich der von ihnen zur erfüllung ihrer öffentlichen aufgaben gebildeten zusammenschlüsse können sich durch eigene beschäftigte mit befähigung zum richteramt einschließlich diplomjuristen im höheren verwaltungsdienst oder durch beschäftigte mit befähigung zum richteramt einschließlich diplomjuristen im höheren verwaltungsdienst anderer behörden oder juristischer personen des öffentlichen rechts einschließlich der von ihnen zur erfüllung ihrer öffentlichen aufgaben gebildeten zusammenschlüsse vertreten lassen.\n",
      "\n",
      "freq:  7 length 72\n",
      "es nicht. die revision ist innerhalb eines monats nach zustellung dieses beschlusses zu begründen. die begründung ist bei dem bundesverwaltungsgericht, simsonplatz <number>, <number> leipzig, schriftlich oder in elektronischer form (verordnung vom <datum>, <gesetzbuch>l s. <number>) einzureichen. für den revisionskläger besteht vertretungszwang; dies gilt auch für die begründung der revision. der revisionskläger muss sich durch einen rechtsanwalt oder einen rechtslehrer an einer deutschen hochschule im sinne des hochschulrahmengesetzes mit befähigung zum richteramt als\n",
      "\n",
      "freq:  7 length 71\n",
      "beschlusses zu begründen. die begründung ist bei dem bundesverwaltungsgericht, simsonplatz <number>, <number> leipzig, schriftlich oder in elektronischer form (verordnung vom <datum>, <gesetzbuch>l s. <number>) einzureichen. für den revisionskläger besteht vertretungszwang; dies gilt auch für die begründung der revision. der revisionskläger muss sich durch einen rechtsanwalt oder einen rechtslehrer an einer deutschen hochschule im sinne des hochschulrahmengesetzes mit befähigung zum richteramt als bevollmächtigten vertreten lassen. juristische personen des öffentlichen rechts und behörden\n",
      "\n",
      "freq:  8 length 70\n",
      "<number>, <number>, <number>, <number>, <number>, <number>, <number>, <number>, <number>, <number>, <number>, <number>, <number>, <number>, <number>, <number>, <number>, <number>, <number>, <number>, <number>, <number>, <number>, <number>, <number>, <number>, <number>, <number>, <number>, <number>, <number>, <number>, <number>, <number>, <number>, <number>, <number>, <number>, <number>, <number>, <number>, <number>, <number>, <number>, <number>, <number>, <number>, <number>, <number>, <number>, <number>, <number>, <number>, <number>, <number>, <number>, <number>, <number>, <number>, <number>, <number>, <number>, <number>, <number>, <number>, <number>, <number>, <number>, <number>, <number>,\n",
      "\n",
      "freq:  8 length 69\n",
      "nicht prozessfähig ist. <number> der mangel der prozessfähigkeit folgt jedenfalls aus § <number> abs. <number> <gesetzbuch>. danach ist ein geschäftsfähiger betreuter bei bestehen eines einwilligungsvorbehalts nach § <number> <gesetzbuch>, der den gegenstand des verfahrens betrifft, nur insoweit zur vornahme von verfahrenshandlungen fähig, als er nach den vorschriften des bürgerlichen rechts ohne einwilligung des betreuers handeln kann oder durch vorschriften des öffentlichen rechts als handlungsfähig anerkannt ist. im fall der\n",
      "\n",
      "freq:  7 length 68\n",
      "begründung ist bei dem bundesverwaltungsgericht, simsonplatz <number>, <number> leipzig, schriftlich oder in elektronischer form (verordnung vom <datum>, <gesetzbuch>l s. <number>) einzureichen. für den revisionskläger besteht vertretungszwang; dies gilt auch für die begründung der revision. der revisionskläger muss sich durch einen rechtsanwalt oder einen rechtslehrer an einer deutschen hochschule im sinne des hochschulrahmengesetzes mit befähigung zum richteramt als bevollmächtigten vertreten lassen. juristische personen des öffentlichen rechts und behörden können\n",
      "\n",
      "freq:  7 length 67\n",
      "bei dem bundesverwaltungsgericht, simsonplatz <number>, <number> leipzig, schriftlich oder in elektronischer form (verordnung vom <datum>, <gesetzbuch>l s. <number>) einzureichen. für den revisionskläger besteht vertretungszwang; dies gilt auch für die begründung der revision. der revisionskläger muss sich durch einen rechtsanwalt oder einen rechtslehrer an einer deutschen hochschule im sinne des hochschulrahmengesetzes mit befähigung zum richteramt als bevollmächtigten vertreten lassen. juristische personen des öffentlichen rechts und behörden können sich\n",
      "\n",
      "freq:  7 length 66\n",
      "bundesverwaltungsgericht, simsonplatz <number>, <number> leipzig, schriftlich oder in elektronischer form (verordnung vom <datum>, <gesetzbuch>l s. <number>) einzureichen. für den revisionskläger besteht vertretungszwang; dies gilt auch für die begründung der revision. der revisionskläger muss sich durch einen rechtsanwalt oder einen rechtslehrer an einer deutschen hochschule im sinne des hochschulrahmengesetzes mit befähigung zum richteramt als bevollmächtigten vertreten lassen. juristische personen des öffentlichen rechts und behörden können sich auch\n",
      "\n",
      "freq:  18 length 65\n",
      "<number>, <number>, <number>, <number>, <number>, <number>, <number>, <number>, <number>, <number>, <number>, <number>, <number>, <number>, <number>, <number>, <number>, <number>, <number>, <number>, <number>, <number>, <number>, <number>, <number>, <number>, <number>, <number>, <number>, <number>, <number>, <number>, <number>, <number>, <number>, <number>, <number>, <number>, <number>, <number>, <number>, <number>, <number>, <number>, <number>, <number>, <number>, <number>, <number>, <number>, <number>, <number>, <number>, <number>, <number>, <number>, <number>, <number>, <number>, <number>, <number>, <number>, <number>, <number>, <number>,\n",
      "\n",
      "freq:  7 length 64\n",
      "<number> leipzig, schriftlich oder in elektronischer form (verordnung vom <datum>, <gesetzbuch>l s. <number>) einzureichen. für den revisionskläger besteht vertretungszwang; dies gilt auch für die begründung der revision. der revisionskläger muss sich durch einen rechtsanwalt oder einen rechtslehrer an einer deutschen hochschule im sinne des hochschulrahmengesetzes mit befähigung zum richteramt als bevollmächtigten vertreten lassen. juristische personen des öffentlichen rechts und behörden können sich auch durch\n",
      "\n",
      "freq:  7 length 63\n",
      "schriftlich oder in elektronischer form (verordnung vom <datum>, <gesetzbuch>l s. <number>) einzureichen. für den revisionskläger besteht vertretungszwang; dies gilt auch für die begründung der revision. der revisionskläger muss sich durch einen rechtsanwalt oder einen rechtslehrer an einer deutschen hochschule im sinne des hochschulrahmengesetzes mit befähigung zum richteramt als bevollmächtigten vertreten lassen. juristische personen des öffentlichen rechts und behörden können sich auch durch beamte\n",
      "\n",
      "freq:  17 length 62\n",
      "der einlegung einer revision durch den beschwerdeführer bedarf es nicht. die revision ist innerhalb eines monats nach zustellung dieses beschlusses zu begründen. die begründung ist bei dem bundesverwaltungsgericht, simsonplatz <number>, <number> leipzig, schriftlich oder in elektronischer form (verordnung vom <datum>, <gesetzbuch>l s. <number>) einzureichen. für die beteiligten besteht vertretungszwang; dies gilt auch für die begründung der revision. die beteiligten müssen sich durch\n",
      "\n",
      "freq:  7 length 61\n",
      "elektronischer form (verordnung vom <datum>, <gesetzbuch>l s. <number>) einzureichen. für den revisionskläger besteht vertretungszwang; dies gilt auch für die begründung der revision. der revisionskläger muss sich durch einen rechtsanwalt oder einen rechtslehrer an einer deutschen hochschule im sinne des hochschulrahmengesetzes mit befähigung zum richteramt als bevollmächtigten vertreten lassen. juristische personen des öffentlichen rechts und behörden können sich auch durch beamte oder\n",
      "\n",
      "freq:  7 length 60\n",
      "(verordnung vom <datum>, <gesetzbuch>l s. <number>) einzureichen. für den revisionskläger besteht vertretungszwang; dies gilt auch für die begründung der revision. der revisionskläger muss sich durch einen rechtsanwalt oder einen rechtslehrer an einer deutschen hochschule im sinne des hochschulrahmengesetzes mit befähigung zum richteramt als bevollmächtigten vertreten lassen. juristische personen des öffentlichen rechts und behörden können sich auch durch beamte oder angestellte\n",
      "\n",
      "freq:  7 length 59\n",
      "<datum>, <gesetzbuch>l s. <number>) einzureichen. für den revisionskläger besteht vertretungszwang; dies gilt auch für die begründung der revision. der revisionskläger muss sich durch einen rechtsanwalt oder einen rechtslehrer an einer deutschen hochschule im sinne des hochschulrahmengesetzes mit befähigung zum richteramt als bevollmächtigten vertreten lassen. juristische personen des öffentlichen rechts und behörden können sich auch durch beamte oder angestellte mit\n",
      "\n",
      "freq:  8 length 58\n",
      "rechtsmittelbelehrung das beschwerdeverfahren wird als revisionsverfahren unter dem aktenzeichen bverwg <number> <number>.<number> fortgesetzt; der einlegung einer revision durch den beschwerdeführer bedarf es nicht. die revision ist innerhalb eines monats nach zustellung dieses beschlusses zu begründen. die begründung ist bei dem bundesverwaltungsgericht, simsonplatz <number>, <number> leipzig, schriftlich oder in elektronischer form (verordnung vom <datum>, <gesetzbuch>l s. <number>) einzureichen. für\n",
      "\n",
      "freq:  8 length 57\n",
      "liegenden einzelfall hinausgehenden, klärungsbedürftigen und entscheidungserheblichen rechtsfrage des revisiblen rechts (§ <number> abs. <number> <gesetzbuch>) zu erwarten ist. in der beschwerdebegründung muss dargelegt (§ <number> abs. <number> satz <number> <gesetzbuch>), also näher ausgeführt werden, dass und inwieweit eine bestimmte rechtsfrage des bundesrechts im allgemeinen interesse klärungsbedürftig und warum ihre klärung in dem beabsichtigten revisionsverfahren zu erwarten ist\n",
      "\n",
      "freq:  38 length 56\n",
      "<number>, <number>, <number>, <number>, <number>, <number>, <number>, <number>, <number>, <number>, <number>, <number>, <number>, <number>, <number>, <number>, <number>, <number>, <number>, <number>, <number>, <number>, <number>, <number>, <number>, <number>, <number>, <number>, <number>, <number>, <number>, <number>, <number>, <number>, <number>, <number>, <number>, <number>, <number>, <number>, <number>, <number>, <number>, <number>, <number>, <number>, <number>, <number>, <number>, <number>, <number>, <number>, <number>, <number>, <number>, <number>,\n",
      "\n",
      "freq:  7 length 55\n",
      "rechtsfrage des revisiblen rechts aufwirft, die im interesse der einheit und der fortbildung des rechts revisionsgerichtlicher klärung bedarf. das darlegungserfordernis des § <number> abs. <number> satz <number> <gesetzbuch> setzt insoweit die formulierung einer bestimmten, höchstrichterlich noch ungeklärten und für die revisionsentscheidung erheblichen rechtsfrage des revisiblen rechts und außerdem die angabe voraus, worin die allgemeine, über\n",
      "\n",
      "freq:  7 length 54\n",
      "revisiblen rechts aufwirft, die im interesse der einheit und der fortbildung des rechts revisionsgerichtlicher klärung bedarf. das darlegungserfordernis des § <number> abs. <number> satz <number> <gesetzbuch> setzt insoweit die formulierung einer bestimmten, höchstrichterlich noch ungeklärten und für die revisionsentscheidung erheblichen rechtsfrage des revisiblen rechts und außerdem die angabe voraus, worin die allgemeine, über den\n",
      "\n",
      "freq:  7 length 53\n",
      "von gesetzes wegen nicht statthaft. sie richtet sich nicht gegen eine der in § <number> abs. <number> <gesetzbuch> abschließend aufgezählten entscheidungen, die mit der beschwerde an das bundesverwaltungsgericht angefochten werden können. der ausschluss der beschwerdemöglichkeit ist verfassungsgemäß, da art. <number> abs. <number> des grundgesetzes keinen instanzenzug gewährleistet (vgl. z.b. bverfge <number>, <number> <<number>>).\n",
      "\n",
      "freq:  7 length 52\n",
      "vom <datum> mit schriftsatz vom <datum> zurückgenommen. das beschwerdeverfahren ist deshalb in entsprechender anwendung von § <number> satz <number>, § <number> abs. <number> satz <number>, § <number> abs. <number> satz <number> <gesetzbuch> einzustellen. <number> die kostenentscheidung folgt aus § <number> abs. <number> <gesetzbuch>. die streitwertfestsetzung beruht auf § <number> abs. <number> satz\n",
      "\n",
      "freq:  8 length 51\n",
      "<number>, <number> bis <number>, <number> bis <number>, <number> bis <number>, <number> bis <number>, <number> bis <number>, <number> bis <number>, <number> bis <number>, <number> bis <number>, <number> bis <number>, <number> bis <number>, <number> bis <number>, <number> bis <number>, <number> bis <number>, <number> bis <number>, <number> bis <number>, <number> bis <number>, <number> bis\n",
      "\n"
     ]
    }
   ],
   "source": [
    "phrases, frequencies, lengths = filter_duplicate_phrases(common_phrases, 50, 100, 1)\n",
    "print_result(phrases, frequencies, lengths)"
   ]
  },
  {
   "cell_type": "markdown",
   "metadata": {},
   "source": [
    "## Other statistics on datasets"
   ]
  },
  {
   "cell_type": "code",
   "execution_count": 220,
   "metadata": {},
   "outputs": [
    {
     "data": {
      "image/png": "[encoded data removed]",
      "text/plain": [
       "<Figure size 432x288 with 1 Axes>"
      ]
     },
     "metadata": {
      "needs_background": "light"
     },
     "output_type": "display_data"
    },
    {
     "data": {
      "image/png": "[encoded data removed]",
      "text/plain": [
       "<Figure size 432x288 with 1 Axes>"
      ]
     },
     "metadata": {
      "needs_background": "light"
     },
     "output_type": "display_data"
    }
   ],
   "source": [
    "plt.title(\"anzahl dokumente nach verfahrensart für top 6 verfahrensarten. \")\n",
    "subset = df.groupby(['Verfahrensart', 'Entscheidungsart']).size()\n",
    "subset[subset > 200].sort_values().plot(kind='bar')\n",
    "plt.show()\n",
    "count = minidf['text'].str.split(\" \").apply(len).sort_values()\n",
    "plt.xscale(\"log\")\n",
    "count.plot.hist(bins=100)\n",
    "plt.show()"
   ]
  },
  {
   "cell_type": "code",
   "execution_count": 221,
   "metadata": {},
   "outputs": [],
   "source": [
    "\n"
   ]
  },
  {
   "cell_type": "code",
   "execution_count": 222,
   "metadata": {},
   "outputs": [],
   "source": []
  },
  {
   "cell_type": "code",
   "execution_count": 31,
   "metadata": {},
   "outputs": [],
   "source": [
    "from pyspark.ml.fpm import PrefixSpan\n",
    "from pyspark import SparkContext\n",
    "\n",
    "sc = SparkContext.getOrCreate();\n",
    "plist = minidf['text_normalized'].tolist()\n",
    "rdd = sc.parallelize(plist)\n",
    "#df = spark.createDataFrame(rdd)"
   ]
  },
  {
   "cell_type": "code",
   "execution_count": null,
   "metadata": {},
   "outputs": [],
   "source": []
  },
  {
   "cell_type": "code",
   "execution_count": 32,
   "metadata": {},
   "outputs": [
    {
     "ename": "AttributeError",
     "evalue": "'RDD' object has no attribute '_jdf'",
     "output_type": "error",
     "traceback": [
      "\u001b[0;31m---------------------------------------------------------------------------\u001b[0m",
      "\u001b[0;31mAttributeError\u001b[0m                            Traceback (most recent call last)",
      "\u001b[0;32m<ipython-input-32-c7bc5101318f>\u001b[0m in \u001b[0;36m<module>\u001b[0;34m\u001b[0m\n\u001b[1;32m      3\u001b[0m \u001b[0;34m\u001b[0m\u001b[0m\n\u001b[1;32m      4\u001b[0m \u001b[0;31m# Find frequent sequential patterns.\u001b[0m\u001b[0;34m\u001b[0m\u001b[0;34m\u001b[0m\u001b[0;34m\u001b[0m\u001b[0m\n\u001b[0;32m----> 5\u001b[0;31m \u001b[0mprefixSpan\u001b[0m\u001b[0;34m.\u001b[0m\u001b[0mfindFrequentSequentialPatterns\u001b[0m\u001b[0;34m(\u001b[0m\u001b[0mrdd\u001b[0m\u001b[0;34m)\u001b[0m\u001b[0;34m.\u001b[0m\u001b[0mshow\u001b[0m\u001b[0;34m(\u001b[0m\u001b[0;34m)\u001b[0m\u001b[0;34m\u001b[0m\u001b[0;34m\u001b[0m\u001b[0m\n\u001b[0m",
      "\u001b[0;32m~/.local/lib/python3.8/site-packages/pyspark/ml/fpm.py\u001b[0m in \u001b[0;36mfindFrequentSequentialPatterns\u001b[0;34m(self, dataset)\u001b[0m\n\u001b[1;32m    425\u001b[0m \u001b[0;34m\u001b[0m\u001b[0m\n\u001b[1;32m    426\u001b[0m         \u001b[0mself\u001b[0m\u001b[0;34m.\u001b[0m\u001b[0m_transfer_params_to_java\u001b[0m\u001b[0;34m(\u001b[0m\u001b[0;34m)\u001b[0m\u001b[0;34m\u001b[0m\u001b[0;34m\u001b[0m\u001b[0m\n\u001b[0;32m--> 427\u001b[0;31m         \u001b[0mjdf\u001b[0m \u001b[0;34m=\u001b[0m \u001b[0mself\u001b[0m\u001b[0;34m.\u001b[0m\u001b[0m_java_obj\u001b[0m\u001b[0;34m.\u001b[0m\u001b[0mfindFrequentSequentialPatterns\u001b[0m\u001b[0;34m(\u001b[0m\u001b[0mdataset\u001b[0m\u001b[0;34m.\u001b[0m\u001b[0m_jdf\u001b[0m\u001b[0;34m)\u001b[0m\u001b[0;34m\u001b[0m\u001b[0;34m\u001b[0m\u001b[0m\n\u001b[0m\u001b[1;32m    428\u001b[0m         \u001b[0;32mreturn\u001b[0m \u001b[0mDataFrame\u001b[0m\u001b[0;34m(\u001b[0m\u001b[0mjdf\u001b[0m\u001b[0;34m,\u001b[0m \u001b[0mdataset\u001b[0m\u001b[0;34m.\u001b[0m\u001b[0msql_ctx\u001b[0m\u001b[0;34m)\u001b[0m\u001b[0;34m\u001b[0m\u001b[0;34m\u001b[0m\u001b[0m\n\u001b[1;32m    429\u001b[0m \u001b[0;34m\u001b[0m\u001b[0m\n",
      "\u001b[0;31mAttributeError\u001b[0m: 'RDD' object has no attribute '_jdf'"
     ]
    }
   ],
   "source": [
    "prefixSpan = PrefixSpan(minSupport=0.5, maxPatternLength=20,\n",
    "                        maxLocalProjDBSize=3200000)\n",
    "\n",
    "# Find frequent sequential patterns.\n",
    "prefixSpan.findFrequentSequentialPatterns(rdd).show()"
   ]
  },
  {
   "cell_type": "code",
   "execution_count": null,
   "metadata": {},
   "outputs": [],
   "source": []
  },
  {
   "cell_type": "code",
   "execution_count": null,
   "metadata": {},
   "outputs": [],
   "source": []
  },
  {
   "cell_type": "code",
   "execution_count": null,
   "metadata": {},
   "outputs": [],
   "source": []
  },
  {
   "cell_type": "code",
   "execution_count": null,
   "metadata": {},
   "outputs": [],
   "source": []
  },
  {
   "cell_type": "code",
   "execution_count": null,
   "metadata": {},
   "outputs": [],
   "source": []
  },
  {
   "cell_type": "code",
   "execution_count": null,
   "metadata": {},
   "outputs": [],
   "source": []
  }
 ],
 "metadata": {
  "kernelspec": {
   "display_name": "Python 3",
   "language": "python",
   "name": "python3"
  },
  "language_info": {
   "codemirror_mode": {
    "name": "ipython",
    "version": 3
   },
   "file_extension": ".py",
   "mimetype": "text/x-python",
   "name": "python",
   "nbconvert_exporter": "python",
   "pygments_lexer": "ipython3",
   "version": "3.8.5"
  }
 },
 "nbformat": 4,
 "nbformat_minor": 4
}
