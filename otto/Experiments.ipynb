{
 "cells": [
  {
   "cell_type": "code",
   "execution_count": 24,
   "metadata": {},
   "outputs": [],
   "source": [
    "import re\n",
    "import collections\n",
    "import pandas as pd\n",
    "import numpy as np \n",
    "import matplotlib.pyplot as plt\n",
    "from tqdm import tqdm\n",
    "import nltk\n"
   ]
  },
  {
   "cell_type": "code",
   "execution_count": 25,
   "metadata": {},
   "outputs": [],
   "source": [
    "df = pd.read_csv('../datasets/raw/2020_06_23_CE-BVerwG_DE_Datensatz.csv')\n"
   ]
  },
  {
   "cell_type": "code",
   "execution_count": 26,
   "metadata": {},
   "outputs": [],
   "source": [
    "\n",
    "def create_datasets(df, split=0.7, n=3):\n",
    "    assert(0 < split < 1)\n",
    "    assert(n >= 2)\n",
    "    total_num_documents = 300\n",
    "    data = []\n",
    "    for judgement in df['text'][:total_num_documents]:\n",
    "        data.extend(judgement.lower().replace(\"\\n\", \" \").split(\" \"))\n",
    "    vocab = nltk.lm.Vocabulary(data, unk_cutoff=3)\n",
    "    \n",
    "    filtered_data = [word for word in data if word in vocab and len(word) > 1]\n",
    "    print(len(filtered_data), len(data))\n",
    "\n",
    "    # split to train and test\n",
    "    split_index = round(len(filtered_data) * split)\n",
    "    traindata = filtered_data[:split_index]\n",
    "    testdata = filtered_data[split_index:]\n",
    "    \n",
    "    # create ngrams\n",
    "    traindata = nltk.ngrams(traindata, n)\n",
    "    testdata = \" \".join(testdata)\n",
    "    # testdata = nltk.ngrams(testdata, n)\n",
    "    return list(traindata), testdata, vocab"
   ]
  },
  {
   "cell_type": "code",
   "execution_count": 27,
   "metadata": {},
   "outputs": [
    {
     "name": "stdout",
     "output_type": "stream",
     "text": [
      "162949 206947\n"
     ]
    }
   ],
   "source": [
    "n = 3\n",
    "traindata, testdata, vocab = create_datasets(df, split=0.8, n=n)\n",
    "traindata = [(\"<UNK>\",)] + traindata\n",
    "model = nltk.lm.MLE(n)\n",
    "model.fit([traindata], vocabulary_text=vocab)"
   ]
  },
  {
   "cell_type": "code",
   "execution_count": 28,
   "metadata": {},
   "outputs": [],
   "source": [
    "def evaluate_model(model, testdata, prediction_length, print_correct_samples=False):\n",
    "    testdata_tuples = testdata.split(\" \")\n",
    "    counter = 0\n",
    "    score = 0\n",
    "    for i in tqdm(range(n,len(testdata_tuples)-prediction_length, prediction_length)):\n",
    "        context = testdata_tuples[i-n:i]\n",
    "        target = testdata_tuples[i:i + prediction_length]\n",
    "        prediction = model.generate(prediction_length, text_seed=context)\n",
    "        \n",
    "        # needed as it only outputs a list if num_words>1\n",
    "        if prediction_length == 1:\n",
    "            prediction = [prediction]\n",
    "\n",
    "        # check if all predictions for this tuple were correct\n",
    "        correct = all([pred_word == target_word for (pred_word, target_word) in zip(prediction, target)])\n",
    "        if correct: \n",
    "            score += 1\n",
    "            if print_correct_samples:\n",
    "                print(context, \"->\", prediction, \"target: \", target[0])\n",
    "        counter += 1\n",
    "\n",
    "    print(score, \"/\", counter, \"correct\")\n",
    "    return score/counter"
   ]
  },
  {
   "cell_type": "code",
   "execution_count": 29,
   "metadata": {},
   "outputs": [],
   "source": [
    "def check_model(data, model, searchstr=\"gemäß §\"):\n",
    "    fail_count = 0\n",
    "    counter = 0\n",
    "    occurences = [m.start() for m in re.finditer(searchstr, data)]\n",
    "    for occ in occurences:\n",
    "        start_offset = len(searchstr)\n",
    "        context = data[occ-30:occ + start_offset]\n",
    "        target = data[occ + start_offset:occ + start_offset + 30]\n",
    "        print(context)\n",
    "        print(target)\n",
    "        print()\n",
    "        counter += 1\n",
    "        words = model.generate(3, text_seed=context)\n",
    "        if '<UNK>' not in words:\n",
    "            print(\"context:\", context)\n",
    "            print(\"target\", target)\n",
    "            print(\" -> \", words)\n",
    "        else:\n",
    "            fail_count += 1\n",
    "    print(\"fails: \", fail_count, \"/\", counter)\n"
   ]
  },
  {
   "cell_type": "code",
   "execution_count": 30,
   "metadata": {},
   "outputs": [],
   "source": [
    "def fit_ngram(df, n):\n",
    "    \"\"\" formats train dataset for n-gram and trains model\"\"\"\n",
    "    traindata, testdata, vocab = create_datasets(df, split=0.8, n=n)\n",
    "    traindata = [(\"<UNK>\",)] + traindata\n",
    "    model = nltk.lm.MLE(n)\n",
    "    model.fit([traindata], vocabulary_text=vocab)\n",
    "    return model"
   ]
  },
  {
   "cell_type": "code",
   "execution_count": 31,
   "metadata": {},
   "outputs": [],
   "source": [
    "def compute_scores() -> dict:\n",
    "    \"\"\" computes percentage of succeses for a range of n and num_predictions.\n",
    "    n stands for the n-gram order. num_predictions for the number of words to predict\n",
    "    \"\"\"\n",
    "    n_range = range(2,5)\n",
    "    scores = {str(n) : [0 for i in range(4)] for n in n_range}\n",
    "    print(scores)\n",
    "    for n in n_range:\n",
    "        model = fit_ngram(df, n)\n",
    "        for num_predictions in range(1,4):\n",
    "            scores[str(n)][num_predictions] = evaluate_model(model, testdata, num_predictions)\n",
    "    return scores"
   ]
  },
  {
   "cell_type": "code",
   "execution_count": 32,
   "metadata": {},
   "outputs": [
    {
     "name": "stdout",
     "output_type": "stream",
     "text": [
      "{'2': [0, 0, 0, 0], '3': [0, 0, 0, 0], '4': [0, 0, 0, 0]}\n",
      "162949 206947\n"
     ]
    },
    {
     "name": "stderr",
     "output_type": "stream",
     "text": [
      "100%|██████████| 32586/32586 [00:37<00:00, 871.16it/s] \n",
      "  0%|          | 39/16293 [00:00<00:42, 385.67it/s]"
     ]
    },
    {
     "name": "stdout",
     "output_type": "stream",
     "text": [
      "4213 / 32586 correct\n"
     ]
    },
    {
     "name": "stderr",
     "output_type": "stream",
     "text": [
      "100%|██████████| 16293/16293 [00:33<00:00, 486.09it/s]\n",
      "  0%|          | 36/10862 [00:00<00:30, 350.59it/s]"
     ]
    },
    {
     "name": "stdout",
     "output_type": "stream",
     "text": [
      "349 / 16293 correct\n"
     ]
    },
    {
     "name": "stderr",
     "output_type": "stream",
     "text": [
      "100%|██████████| 10862/10862 [00:31<00:00, 344.32it/s]\n"
     ]
    },
    {
     "name": "stdout",
     "output_type": "stream",
     "text": [
      "40 / 10862 correct\n",
      "162949 206947\n"
     ]
    },
    {
     "name": "stderr",
     "output_type": "stream",
     "text": [
      "100%|██████████| 32586/32586 [00:05<00:00, 6365.69it/s]\n",
      "  7%|▋         | 1077/16293 [00:00<00:02, 5127.10it/s]"
     ]
    },
    {
     "name": "stdout",
     "output_type": "stream",
     "text": [
      "7366 / 32586 correct\n"
     ]
    },
    {
     "name": "stderr",
     "output_type": "stream",
     "text": [
      "100%|██████████| 16293/16293 [00:03<00:00, 4585.52it/s]\n",
      "  8%|▊         | 841/10862 [00:00<00:02, 4183.56it/s]"
     ]
    },
    {
     "name": "stdout",
     "output_type": "stream",
     "text": [
      "1810 / 16293 correct\n"
     ]
    },
    {
     "name": "stderr",
     "output_type": "stream",
     "text": [
      "100%|██████████| 10862/10862 [00:02<00:00, 3641.76it/s]\n"
     ]
    },
    {
     "name": "stdout",
     "output_type": "stream",
     "text": [
      "693 / 10862 correct\n",
      "162949 206947\n"
     ]
    },
    {
     "name": "stderr",
     "output_type": "stream",
     "text": [
      "100%|██████████| 32586/32586 [00:03<00:00, 8467.68it/s]\n",
      "  9%|▉         | 1496/16293 [00:00<00:01, 7461.87it/s]"
     ]
    },
    {
     "name": "stdout",
     "output_type": "stream",
     "text": [
      "7328 / 32586 correct\n"
     ]
    },
    {
     "name": "stderr",
     "output_type": "stream",
     "text": [
      "100%|██████████| 16293/16293 [00:02<00:00, 6720.86it/s]\n",
      "  6%|▌         | 663/10862 [00:00<00:01, 6628.50it/s]"
     ]
    },
    {
     "name": "stdout",
     "output_type": "stream",
     "text": [
      "2489 / 16293 correct\n"
     ]
    },
    {
     "name": "stderr",
     "output_type": "stream",
     "text": [
      "100%|██████████| 10862/10862 [00:01<00:00, 6119.61it/s]"
     ]
    },
    {
     "name": "stdout",
     "output_type": "stream",
     "text": [
      "1147 / 10862 correct\n"
     ]
    },
    {
     "name": "stderr",
     "output_type": "stream",
     "text": [
      "\n"
     ]
    }
   ],
   "source": [
    "scores = compute_scores()"
   ]
  },
  {
   "cell_type": "code",
   "execution_count": 47,
   "metadata": {},
   "outputs": [],
   "source": [
    "def plot_scores(scores):\n",
    "    fig = plt.figure()\n",
    "\n",
    "    plt.title(\"Accuracies of ngram models over testset\")\n",
    "    plt.ylabel(\"success rate\")\n",
    "    plt.xlabel(\"length of prediction in words\")\n",
    "\n",
    "    for ngram in scores.keys():\n",
    "        \n",
    "        plt.plot([i for i in range(1,5)], scores[ngram], label=\"ngram-order: \"+str(ngram))\n",
    "    plt.legend()\n",
    "\n",
    "    plt.show()\n",
    "    "
   ]
  },
  {
   "cell_type": "code",
   "execution_count": 48,
   "metadata": {},
   "outputs": [
    {
     "data": {
      "image/png": "[encoded data removed]",
      "text/plain": [
       "<Figure size 432x288 with 1 Axes>"
      ]
     },
     "metadata": {
      "needs_background": "light"
     },
     "output_type": "display_data"
    }
   ],
   "source": [
    "plot_scores(scores)"
   ]
  },
  {
   "cell_type": "code",
   "execution_count": null,
   "metadata": {},
   "outputs": [],
   "source": []
  },
  {
   "cell_type": "code",
   "execution_count": null,
   "metadata": {},
   "outputs": [],
   "source": []
  },
  {
   "cell_type": "code",
   "execution_count": null,
   "metadata": {},
   "outputs": [],
   "source": []
  }
 ],
 "metadata": {
  "kernelspec": {
   "display_name": "Python 3",
   "language": "python",
   "name": "python3"
  },
  "language_info": {
   "codemirror_mode": {
    "name": "ipython",
    "version": 3
   },
   "file_extension": ".py",
   "mimetype": "text/x-python",
   "name": "python",
   "nbconvert_exporter": "python",
   "pygments_lexer": "ipython3",
   "version": "3.8.5"
  }
 },
 "nbformat": 4,
 "nbformat_minor": 4
}
